{
 "cells": [
  {
   "cell_type": "markdown",
   "id": "87766d7c",
   "metadata": {},
   "source": [
    "# Language Identification Model\n"
   ]
  },
  {
   "cell_type": "code",
   "execution_count": 31,
   "id": "00f612dd",
   "metadata": {},
   "outputs": [],
   "source": [
    "### TO DEBUGGIN'\n",
    "_DEBUG = True"
   ]
  },
  {
   "cell_type": "markdown",
   "id": "80b1b819",
   "metadata": {},
   "source": [
    "## Load Package"
   ]
  },
  {
   "cell_type": "code",
   "execution_count": 94,
   "id": "57c36656",
   "metadata": {},
   "outputs": [],
   "source": [
    "# to load and manipulate data\n",
    "import pandas as pd\n",
    "import numpy as np\n",
    "import os\n",
    "import json\n",
    "from sklearn.model_selection import train_test_split\n",
    "\n",
    "# to make neural netowrk model, sequencing and tokenizing\n",
    "import tensorflow as tf\n",
    "\n",
    "from tensorflow.keras.preprocessing.text import Tokenizer\n",
    "from tensorflow.keras.preprocessing.sequence import pad_sequences\n",
    "from tensorflow.keras import layers\n",
    "\n",
    "# to evaluate and display results\n",
    "from sklearn.metrics import  confusion_matrix, accuracy_score\n",
    "import matplotlib\n",
    "import matplotlib.pyplot as plt\n",
    "\n",
    "# to graph\n",
    "import squarify"
   ]
  },
  {
   "cell_type": "markdown",
   "id": "fd801346",
   "metadata": {},
   "source": [
    "## Load Data"
   ]
  },
  {
   "cell_type": "code",
   "execution_count": 33,
   "id": "28fb2f86",
   "metadata": {},
   "outputs": [
    {
     "name": "stdout",
     "output_type": "stream",
     "text": [
      "./data/language.json\n",
      "./data/sentences.csv\n"
     ]
    }
   ],
   "source": [
    "## print paths\n",
    "for root, dirs, files in os.walk('./data'):\n",
    "    for filename in files:\n",
    "        print(os.path.join(root,filename))\n",
    "del dirs\n",
    "del root\n",
    "del files\n",
    "del filename"
   ]
  },
  {
   "cell_type": "code",
   "execution_count": 55,
   "id": "4acc594c",
   "metadata": {},
   "outputs": [
    {
     "name": "stdout",
     "output_type": "stream",
     "text": [
      "CPU times: user 5.69 s, sys: 656 ms, total: 6.35 s\n",
      "Wall time: 6.55 s\n"
     ]
    }
   ],
   "source": [
    "%%time\n",
    "## vamos a medir el TIME de esta shit\n",
    "\n",
    "df = pd.read_csv(\"./data/sentences.csv\")"
   ]
  },
  {
   "cell_type": "markdown",
   "id": "b67cb6e3",
   "metadata": {},
   "source": [
    "## Data Cleansing"
   ]
  },
  {
   "cell_type": "code",
   "execution_count": 56,
   "id": "d4eeb9d7",
   "metadata": {},
   "outputs": [],
   "source": [
    "## eliminar columna maldita que esta de mas ID\n",
    "df.drop(columns=['id'],inplace=True)"
   ]
  },
  {
   "cell_type": "code",
   "execution_count": 57,
   "id": "40dcd088",
   "metadata": {},
   "outputs": [
    {
     "data": {
      "text/html": [
       "<div>\n",
       "<style scoped>\n",
       "    .dataframe tbody tr th:only-of-type {\n",
       "        vertical-align: middle;\n",
       "    }\n",
       "\n",
       "    .dataframe tbody tr th {\n",
       "        vertical-align: top;\n",
       "    }\n",
       "\n",
       "    .dataframe thead th {\n",
       "        text-align: right;\n",
       "    }\n",
       "</style>\n",
       "<table border=\"1\" class=\"dataframe\">\n",
       "  <thead>\n",
       "    <tr style=\"text-align: right;\">\n",
       "      <th></th>\n",
       "      <th>lan_code</th>\n",
       "      <th>sentence</th>\n",
       "    </tr>\n",
       "  </thead>\n",
       "  <tbody>\n",
       "    <tr>\n",
       "      <th>0</th>\n",
       "      <td>cmn</td>\n",
       "      <td>我們試試看！</td>\n",
       "    </tr>\n",
       "    <tr>\n",
       "      <th>1</th>\n",
       "      <td>cmn</td>\n",
       "      <td>我该去睡觉了。</td>\n",
       "    </tr>\n",
       "    <tr>\n",
       "      <th>2</th>\n",
       "      <td>cmn</td>\n",
       "      <td>你在干什麼啊？</td>\n",
       "    </tr>\n",
       "    <tr>\n",
       "      <th>3</th>\n",
       "      <td>cmn</td>\n",
       "      <td>這是什麼啊？</td>\n",
       "    </tr>\n",
       "    <tr>\n",
       "      <th>4</th>\n",
       "      <td>cmn</td>\n",
       "      <td>今天是６月１８号，也是Muiriel的生日！</td>\n",
       "    </tr>\n",
       "  </tbody>\n",
       "</table>\n",
       "</div>"
      ],
      "text/plain": [
       "  lan_code                sentence\n",
       "0      cmn                  我們試試看！\n",
       "1      cmn                 我该去睡觉了。\n",
       "2      cmn                 你在干什麼啊？\n",
       "3      cmn                  這是什麼啊？\n",
       "4      cmn  今天是６月１８号，也是Muiriel的生日！"
      ]
     },
     "execution_count": 57,
     "metadata": {},
     "output_type": "execute_result"
    }
   ],
   "source": [
    "df.head()"
   ]
  },
  {
   "cell_type": "code",
   "execution_count": 58,
   "id": "24fbb44f",
   "metadata": {},
   "outputs": [
    {
     "data": {
      "text/html": [
       "<div>\n",
       "<style scoped>\n",
       "    .dataframe tbody tr th:only-of-type {\n",
       "        vertical-align: middle;\n",
       "    }\n",
       "\n",
       "    .dataframe tbody tr th {\n",
       "        vertical-align: top;\n",
       "    }\n",
       "\n",
       "    .dataframe thead th {\n",
       "        text-align: right;\n",
       "    }\n",
       "</style>\n",
       "<table border=\"1\" class=\"dataframe\">\n",
       "  <thead>\n",
       "    <tr style=\"text-align: right;\">\n",
       "      <th></th>\n",
       "      <th>lan_code</th>\n",
       "      <th>sentence</th>\n",
       "    </tr>\n",
       "  </thead>\n",
       "  <tbody>\n",
       "    <tr>\n",
       "      <th>count</th>\n",
       "      <td>10341812</td>\n",
       "      <td>10341812</td>\n",
       "    </tr>\n",
       "    <tr>\n",
       "      <th>unique</th>\n",
       "      <td>404</td>\n",
       "      <td>10330761</td>\n",
       "    </tr>\n",
       "    <tr>\n",
       "      <th>top</th>\n",
       "      <td>eng</td>\n",
       "      <td>Bravo!</td>\n",
       "    </tr>\n",
       "    <tr>\n",
       "      <th>freq</th>\n",
       "      <td>1586621</td>\n",
       "      <td>11</td>\n",
       "    </tr>\n",
       "  </tbody>\n",
       "</table>\n",
       "</div>"
      ],
      "text/plain": [
       "        lan_code  sentence\n",
       "count   10341812  10341812\n",
       "unique       404  10330761\n",
       "top          eng    Bravo!\n",
       "freq     1586621        11"
      ]
     },
     "metadata": {},
     "output_type": "display_data"
    }
   ],
   "source": [
    "if _DEBUG:\n",
    "    display(df.describe())"
   ]
  },
  {
   "cell_type": "code",
   "execution_count": 59,
   "id": "d31ecff8",
   "metadata": {},
   "outputs": [
    {
     "name": "stdout",
     "output_type": "stream",
     "text": [
      "Code LANGUAGE with less frequency than 10: sentence    277\n",
      "dtype: int64\n"
     ]
    },
    {
     "data": {
      "image/png": "[encoded data removed]",
      "text/plain": [
       "<Figure size 640x480 with 1 Axes>"
      ]
     },
     "metadata": {},
     "output_type": "display_data"
    }
   ],
   "source": [
    "if _DEBUG:\n",
    "    df_exploration = df.groupby(\"lan_code\").count().sort_values(\"sentence\",ascending = False)\n",
    "\n",
    "    #!# posiblemente cuando se entrene el modelo los de baja frecuencia no va a predecir correctamente\n",
    "    #!# como posible opcion 1 analizar con todo y luego ver el impacto de remover esos code lan con freq 1\n",
    "    \n",
    "    count_freq_1 = df_exploration[df_exploration.sentence<=10].sum()\n",
    "    print(\"Code LANGUAGE with less frequency than 10: {}\".format(count_freq_1))\n",
    "    \n",
    "    ## GRAPH - TREEMAP\n",
    "    # top 50 Language with more sentences\n",
    "    sizes_treemap = df_exploration[\"sentence\"][:5].tolist()\n",
    "    labels_treemap = df_exploration[:5].index.values.tolist()\n",
    "    \n",
    "    #plt.figure(figsize=(10,10))\n",
    "    squarify.plot(sizes = sizes_treemap, label = labels_treemap, alpha=0.2)\n",
    "    plt.savefig('/Users/pitehrhurtadocayo/Documents/DevOps/Project_0006_NLP/NLP_LanguageIdentification/outputs/heatmap_lan.png')\n",
    "    plt.show()\n",
    "    list_lan_top_10 = df_exploration[:5].index.tolist()\n",
    "\n",
    "    del df_exploration\n",
    "    del count_freq_1\n",
    "    del sizes_treemap\n",
    "    del labels_treemap"
   ]
  },
  {
   "cell_type": "markdown",
   "id": "9c0dade4",
   "metadata": {},
   "source": [
    "## Preprocessing Data\n"
   ]
  },
  {
   "cell_type": "code",
   "execution_count": 60,
   "id": "337dfdaa",
   "metadata": {},
   "outputs": [
    {
     "name": "stdout",
     "output_type": "stream",
     "text": [
      "Count of Classes: 5\n"
     ]
    }
   ],
   "source": [
    "## Filter TOP 30 Lan\n",
    "df = df[df[\"lan_code\"].isin(list_lan_top_10)] \n",
    "\n",
    "# ENCODING CLASSES (cod language)\n",
    "classes_list = list(df.lan_code.unique())\n",
    "print(\"Count of Classes: {}\".format(len(classes_list)))"
   ]
  },
  {
   "cell_type": "code",
   "execution_count": 61,
   "id": "499c0b49",
   "metadata": {},
   "outputs": [],
   "source": [
    "## crearemos dos dic para usos posteriores de transformacion\n",
    "cls_to_num = {\n",
    "    cls : i\n",
    "    for i,cls in enumerate(classes_list)\n",
    "}\n",
    "\n",
    "num_to_cls = {\n",
    "    i : cls\n",
    "    for cls,i in cls_to_num.items()\n",
    "}"
   ]
  },
  {
   "cell_type": "code",
   "execution_count": 62,
   "id": "4ba360de",
   "metadata": {},
   "outputs": [
    {
     "data": {
      "text/html": [
       "<div>\n",
       "<style scoped>\n",
       "    .dataframe tbody tr th:only-of-type {\n",
       "        vertical-align: middle;\n",
       "    }\n",
       "\n",
       "    .dataframe tbody tr th {\n",
       "        vertical-align: top;\n",
       "    }\n",
       "\n",
       "    .dataframe thead th {\n",
       "        text-align: right;\n",
       "    }\n",
       "</style>\n",
       "<table border=\"1\" class=\"dataframe\">\n",
       "  <thead>\n",
       "    <tr style=\"text-align: right;\">\n",
       "      <th></th>\n",
       "      <th>lan_code</th>\n",
       "      <th>sentence</th>\n",
       "    </tr>\n",
       "  </thead>\n",
       "  <tbody>\n",
       "    <tr>\n",
       "      <th>235</th>\n",
       "      <td>rus</td>\n",
       "      <td>Один раз в жизни я делаю хорошее дело... И оно...</td>\n",
       "    </tr>\n",
       "    <tr>\n",
       "      <th>1232</th>\n",
       "      <td>eng</td>\n",
       "      <td>Let's try something.</td>\n",
       "    </tr>\n",
       "    <tr>\n",
       "      <th>1233</th>\n",
       "      <td>eng</td>\n",
       "      <td>I have to go to sleep.</td>\n",
       "    </tr>\n",
       "    <tr>\n",
       "      <th>1235</th>\n",
       "      <td>eng</td>\n",
       "      <td>Today is June 18th and it is Muiriel's birthday!</td>\n",
       "    </tr>\n",
       "    <tr>\n",
       "      <th>1236</th>\n",
       "      <td>eng</td>\n",
       "      <td>Muiriel is 20 now.</td>\n",
       "    </tr>\n",
       "  </tbody>\n",
       "</table>\n",
       "</div>"
      ],
      "text/plain": [
       "     lan_code                                           sentence\n",
       "235       rus  Один раз в жизни я делаю хорошее дело... И оно...\n",
       "1232      eng                               Let's try something.\n",
       "1233      eng                             I have to go to sleep.\n",
       "1235      eng   Today is June 18th and it is Muiriel's birthday!\n",
       "1236      eng                                 Muiriel is 20 now."
      ]
     },
     "metadata": {},
     "output_type": "display_data"
    },
    {
     "data": {
      "text/html": [
       "<div>\n",
       "<style scoped>\n",
       "    .dataframe tbody tr th:only-of-type {\n",
       "        vertical-align: middle;\n",
       "    }\n",
       "\n",
       "    .dataframe tbody tr th {\n",
       "        vertical-align: top;\n",
       "    }\n",
       "\n",
       "    .dataframe thead th {\n",
       "        text-align: right;\n",
       "    }\n",
       "</style>\n",
       "<table border=\"1\" class=\"dataframe\">\n",
       "  <thead>\n",
       "    <tr style=\"text-align: right;\">\n",
       "      <th></th>\n",
       "      <th>lan_code</th>\n",
       "      <th>sentence</th>\n",
       "    </tr>\n",
       "  </thead>\n",
       "  <tbody>\n",
       "    <tr>\n",
       "      <th>235</th>\n",
       "      <td>0</td>\n",
       "      <td>Один раз в жизни я делаю хорошее дело... И оно...</td>\n",
       "    </tr>\n",
       "    <tr>\n",
       "      <th>1232</th>\n",
       "      <td>1</td>\n",
       "      <td>Let's try something.</td>\n",
       "    </tr>\n",
       "    <tr>\n",
       "      <th>1233</th>\n",
       "      <td>1</td>\n",
       "      <td>I have to go to sleep.</td>\n",
       "    </tr>\n",
       "    <tr>\n",
       "      <th>1235</th>\n",
       "      <td>1</td>\n",
       "      <td>Today is June 18th and it is Muiriel's birthday!</td>\n",
       "    </tr>\n",
       "    <tr>\n",
       "      <th>1236</th>\n",
       "      <td>1</td>\n",
       "      <td>Muiriel is 20 now.</td>\n",
       "    </tr>\n",
       "  </tbody>\n",
       "</table>\n",
       "</div>"
      ],
      "text/plain": [
       "      lan_code                                           sentence\n",
       "235          0  Один раз в жизни я делаю хорошее дело... И оно...\n",
       "1232         1                               Let's try something.\n",
       "1233         1                             I have to go to sleep.\n",
       "1235         1   Today is June 18th and it is Muiriel's birthday!\n",
       "1236         1                                 Muiriel is 20 now."
      ]
     },
     "metadata": {},
     "output_type": "display_data"
    }
   ],
   "source": [
    "## cambiar el string-code por int-code para ingresarlos al modelo\n",
    "display(df.head())\n",
    "df.lan_code = df.lan_code.map(cls_to_num).astype(int)\n",
    "display(df.head())"
   ]
  },
  {
   "cell_type": "code",
   "execution_count": 63,
   "id": "465c2fac",
   "metadata": {},
   "outputs": [
    {
     "name": "stdout",
     "output_type": "stream",
     "text": [
      "<class 'pandas.core.frame.DataFrame'>\n",
      "Int64Index: 4705216 entries, 235 to 10341806\n",
      "Data columns (total 2 columns):\n",
      " #   Column    Dtype \n",
      "---  ------    ----- \n",
      " 0   lan_code  int64 \n",
      " 1   sentence  object\n",
      "dtypes: int64(1), object(1)\n",
      "memory usage: 107.7+ MB\n"
     ]
    }
   ],
   "source": [
    "df.info()"
   ]
  },
  {
   "cell_type": "markdown",
   "id": "02179fb9",
   "metadata": {},
   "source": [
    "## Subset Train & Test"
   ]
  },
  {
   "cell_type": "code",
   "execution_count": 64,
   "id": "8cb045cf",
   "metadata": {},
   "outputs": [
    {
     "data": {
      "text/plain": [
       "array(['Один раз в жизни я делаю хорошее дело... И оно бесполезно.',\n",
       "       \"Let's try something.\", 'I have to go to sleep.', ...,\n",
       "       'Kial forigi la bovinon de la glacio, kiam estis sufiĉe malfacile, aldoni ĝin tien?',\n",
       "       'La plej malfacila parto de la maratono estas la maratono mem.',\n",
       "       'Kio estus la vivo, se ni ne havus la kuraĝon riski ion?'],\n",
       "      dtype=object)"
      ]
     },
     "metadata": {},
     "output_type": "display_data"
    },
    {
     "data": {
      "text/plain": [
       "array([0, 1, 1, ..., 3, 3, 3])"
      ]
     },
     "metadata": {},
     "output_type": "display_data"
    }
   ],
   "source": [
    "# Lista de Sentencias\n",
    "X = df.pop('sentence').values\n",
    "\n",
    "# Lista de CODE LAN \n",
    "y = df.copy().values.T[0]\n",
    "\n",
    "if _DEBUG:\n",
    "    display(X)\n",
    "    display(y)"
   ]
  },
  {
   "cell_type": "code",
   "execution_count": 65,
   "id": "8a0c148c",
   "metadata": {},
   "outputs": [],
   "source": [
    "## liberamos memoria virtual (RAM)\n",
    "del df"
   ]
  },
  {
   "cell_type": "code",
   "execution_count": 66,
   "id": "0c06aef2",
   "metadata": {},
   "outputs": [],
   "source": [
    "X_train, X_test, y_train, y_test = train_test_split(\n",
    "    X,y,\n",
    "    train_size=0.8,\n",
    "    random_state=50,\n",
    "    shuffle = True\n",
    ")\n",
    "\n",
    "## liberamos memoria virtual (RAM)\n",
    "del X, y"
   ]
  },
  {
   "cell_type": "markdown",
   "id": "36cb59f9",
   "metadata": {},
   "source": [
    "# Tokenization\n",
    "\n",
    "Usaremos este metodo para procesar los datos input para el modelo:\n",
    "\n",
    "mas info: https://towardsdatascience.com/tokenization-for-natural-language-processing-a179a891bad4\n"
   ]
  },
  {
   "cell_type": "markdown",
   "id": "51c56603",
   "metadata": {},
   "source": [
    "### Sentencias -> Secuencias de palabras\n"
   ]
  },
  {
   "cell_type": "code",
   "execution_count": 67,
   "id": "a2734a5d",
   "metadata": {},
   "outputs": [],
   "source": [
    "## parametros\n",
    "\n",
    "NUM_WORDS = 100000\n",
    "MAX_LEN = 100\n",
    "NUM_CLASSES = 5 # esto lo sacamos de arriba"
   ]
  },
  {
   "cell_type": "code",
   "execution_count": 68,
   "id": "1a03dfcd",
   "metadata": {},
   "outputs": [],
   "source": [
    "def tokenize_and_sequence(\n",
    "                            train_sentences,\n",
    "                            test_sentences\n",
    "                            ):\n",
    "    tok = Tokenizer(num_words = NUM_WORDS, oov_token='<OOV>')\n",
    "    tok.fit_on_texts(train_sentences)\n",
    "    \n",
    "    # training set\n",
    "    train_seq = tok.texts_to_sequences(train_sentences)\n",
    "    train_seq = pad_sequences(\n",
    "                    train_seq,\n",
    "                    padding = 'post',\n",
    "                    maxlen = MAX_LEN,\n",
    "                    truncating = 'post'\n",
    "                )\n",
    "    \n",
    "    # testing set\n",
    "    test_seq = tok.texts_to_sequences(test_sentences)\n",
    "    test_seq = pad_sequences(\n",
    "                    test_seq,\n",
    "                    padding = 'post',\n",
    "                    maxlen = MAX_LEN,\n",
    "                    truncating = 'post'\n",
    "                )\n",
    "    if _DEBUG:\n",
    "        print(tok.get_config())\n",
    "    \n",
    "    return train_seq, test_seq, tok"
   ]
  },
  {
   "cell_type": "code",
   "execution_count": 69,
   "id": "15abbe8e",
   "metadata": {},
   "outputs": [
    {
     "name": "stderr",
     "output_type": "stream",
     "text": [
      "IOPub data rate exceeded.\n",
      "The notebook server will temporarily stop sending output\n",
      "to the client in order to avoid crashing it.\n",
      "To change this limit, set the config variable\n",
      "`--NotebookApp.iopub_data_rate_limit`.\n",
      "\n",
      "Current values:\n",
      "NotebookApp.iopub_data_rate_limit=1000000.0 (bytes/sec)\n",
      "NotebookApp.rate_limit_window=3.0 (secs)\n",
      "\n"
     ]
    }
   ],
   "source": [
    "%%time\n",
    "## call function \n",
    "X_train, X_test, tok = tokenize_and_sequence(X_train, X_test)\n",
    "\n",
    "# WARNING: problemas de tiempo de respuesta, se debe cambiar la config del notebook"
   ]
  },
  {
   "cell_type": "code",
   "execution_count": 70,
   "id": "e63946da",
   "metadata": {},
   "outputs": [
    {
     "name": "stdout",
     "output_type": "stream",
     "text": [
      "(3764172, 100)\n",
      "(941044, 100)\n"
     ]
    }
   ],
   "source": [
    "if _DEBUG:\n",
    "    print(X_train.shape)\n",
    "    print(X_test.shape)"
   ]
  },
  {
   "cell_type": "markdown",
   "id": "e7407a26",
   "metadata": {},
   "source": [
    "# Model NLP"
   ]
  },
  {
   "cell_type": "markdown",
   "id": "847c0ca0",
   "metadata": {},
   "source": [
    "## Build Model"
   ]
  },
  {
   "cell_type": "markdown",
   "id": "49fb2438",
   "metadata": {},
   "source": [
    "- Embedding layer son capas de palabras previamente entrenadas como GloVe, se usan mucho en NLP.\n",
    "- LSTM : capa de memoria a largo plazo\n",
    "- Dense: capa densa conectada normal\n",
    "- Dropout: ayuda a evitar el sobreajuste en la entrada\n",
    "\n",
    "Funciones de Activacion: https://towardsdatascience.com/7-popular-activation-functions-you-should-know-in-deep-learning-and-how-to-use-them-with-keras-and-27b4d838dfe6\n",
    "\n",
    "Ocupamos:\n",
    "- ReLu\n",
    "- Softmax: se usa muy amenudo en la ultima capa de la red, como FA. dado que el resultado se podria interpretar como una D. P. "
   ]
  },
  {
   "cell_type": "code",
   "execution_count": 71,
   "id": "119f8c46",
   "metadata": {},
   "outputs": [],
   "source": [
    "## heredamos la clases tf.keras.model (Classic)\n",
    "class NLPModel(tf.keras.Model):\n",
    "    def __init__(self,\n",
    "                vocad_dim = NUM_WORDS,\n",
    "                max_len = MAX_LEN,\n",
    "                num_classes = NUM_CLASSES):\n",
    "        super().__init__()\n",
    "        \n",
    "        self.embedding = layers.Embedding(input_dim = vocad_dim, output_dim = 32, input_length = max_len)\n",
    "        \n",
    "        self.lstm1 = layers.Bidirectional(layers.LSTM(units = 32, return_sequences=True))\n",
    "        self.lstm2 = layers.Bidirectional(layers.LSTM(16))\n",
    "        \n",
    "        self.dense = layers.Dense(64, activation = 'relu')\n",
    "        \n",
    "        self.dropout = layers.Dropout(0.5)\n",
    "        \n",
    "        self.classifier = layers.Dense(num_classes, activation = 'softmax')\n",
    "        \n",
    "    def call(self, inputs, training = False):\n",
    "        x = self.embedding(inputs)\n",
    "        x = self.lstm1(x)\n",
    "        x = self.lstm2(x)\n",
    "        x = self.dense(x)\n",
    "        if training:\n",
    "            x = self.dropout(x, training = training)\n",
    "        return self.classifier(x)"
   ]
  },
  {
   "cell_type": "code",
   "execution_count": 72,
   "id": "90b950c3",
   "metadata": {},
   "outputs": [],
   "source": [
    "model = NLPModel()"
   ]
  },
  {
   "cell_type": "code",
   "execution_count": 73,
   "id": "ab2e042e",
   "metadata": {},
   "outputs": [],
   "source": [
    "## Especificamos la configuración de entrenamiento (optimizador, pérdida, métricas):\n",
    "# uso de ADAM Algorithm\n",
    "\n",
    "model.compile(\n",
    "    optimizer=tf.keras.optimizers.Adam(learning_rate=1e-3),\n",
    "    loss=tf.keras.losses.SparseCategoricalCrossentropy(),\n",
    "    metrics=['accuracy']\n",
    ")"
   ]
  },
  {
   "cell_type": "markdown",
   "id": "7cc43112",
   "metadata": {},
   "source": [
    "## Train Model"
   ]
  },
  {
   "cell_type": "code",
   "execution_count": 76,
   "id": "fa26d399",
   "metadata": {},
   "outputs": [
    {
     "name": "stdout",
     "output_type": "stream",
     "text": [
      "37642/37642 [==============================] - 2219s 59ms/step - loss: 0.0088 - accuracy: 0.9972 - val_loss: 0.0049 - val_accuracy: 0.9983\n",
      "CPU times: user 1h 12min 4s, sys: 13min 1s, total: 1h 25min 5s\n",
      "Wall time: 36min 58s\n"
     ]
    }
   ],
   "source": [
    "%%time\n",
    "history = model.fit(\n",
    "                    X_train, y_train,\n",
    "                    validation_data=(X_test, y_test),\n",
    "                    batch_size=100, \n",
    "                    epochs=1\n",
    ")"
   ]
  },
  {
   "cell_type": "code",
   "execution_count": 97,
   "id": "27b72b17",
   "metadata": {},
   "outputs": [
    {
     "name": "stdout",
     "output_type": "stream",
     "text": [
      "Model: \"nlp_model_1\"\n",
      "_________________________________________________________________\n",
      " Layer (type)                Output Shape              Param #   \n",
      "=================================================================\n",
      " embedding_1 (Embedding)     multiple                  3200000   \n",
      "                                                                 \n",
      " bidirectional_2 (Bidirectio  multiple                 16640     \n",
      " nal)                                                            \n",
      "                                                                 \n",
      " bidirectional_3 (Bidirectio  multiple                 10368     \n",
      " nal)                                                            \n",
      "                                                                 \n",
      " dense_2 (Dense)             multiple                  2112      \n",
      "                                                                 \n",
      " dropout_1 (Dropout)         multiple                  0         \n",
      "                                                                 \n",
      " dense_3 (Dense)             multiple                  325       \n",
      "                                                                 \n",
      "=================================================================\n",
      "Total params: 3,229,445\n",
      "Trainable params: 3,229,445\n",
      "Non-trainable params: 0\n",
      "_________________________________________________________________\n"
     ]
    }
   ],
   "source": [
    "## Training INFO\n",
    "history.history\n",
    "model.summary()"
   ]
  },
  {
   "cell_type": "markdown",
   "id": "2053f5b5",
   "metadata": {},
   "source": [
    "## Evaluate Model"
   ]
  },
  {
   "cell_type": "code",
   "execution_count": 78,
   "id": "c5e43ccc",
   "metadata": {},
   "outputs": [
    {
     "name": "stdout",
     "output_type": "stream",
     "text": [
      "1838/1838 [==============================] - 113s 61ms/step\n",
      "CPU times: user 3min 54s, sys: 1min 20s, total: 5min 14s\n",
      "Wall time: 1min 53s\n"
     ]
    }
   ],
   "source": [
    "%%time\n",
    "y_pred = model.predict(X_test, batch_size=512, verbose=1)\n",
    "y_pred = y_pred.argmax(axis=1)"
   ]
  },
  {
   "cell_type": "code",
   "execution_count": 79,
   "id": "42122177",
   "metadata": {},
   "outputs": [
    {
     "name": "stdout",
     "output_type": "stream",
     "text": [
      "CPU times: user 290 ms, sys: 19.2 ms, total: 309 ms\n",
      "Wall time: 309 ms\n"
     ]
    }
   ],
   "source": [
    "%%time\n",
    "acc = accuracy_score(y_test, y_pred)\n",
    "conf_mat = confusion_matrix(y_test, y_pred)\n",
    "conf_mat_recall = confusion_matrix(y_test, y_pred, normalize='true')\n",
    "conf_mat_precision = confusion_matrix(y_test, y_pred, normalize='pred')"
   ]
  },
  {
   "cell_type": "markdown",
   "id": "f6273fb5",
   "metadata": {},
   "source": [
    "### Accuracy"
   ]
  },
  {
   "cell_type": "code",
   "execution_count": 80,
   "id": "bba27cf9",
   "metadata": {},
   "outputs": [
    {
     "name": "stdout",
     "output_type": "stream",
     "text": [
      "Accuracy = 99.83%\n"
     ]
    }
   ],
   "source": [
    "print(f\"Accuracy = {acc:.2%}\")"
   ]
  },
  {
   "cell_type": "markdown",
   "id": "2d33f36b",
   "metadata": {},
   "source": [
    "## Save Model H5"
   ]
  },
  {
   "cell_type": "code",
   "execution_count": 90,
   "id": "e153bdc2",
   "metadata": {},
   "outputs": [],
   "source": [
    "# cuando son modelos extendidos el formato h5 no aplica\n",
    "#model.save('nlp_v1.h5')\n",
    "\n",
    "# Save the weights\n",
    "model.save_weights('model_weights/')"
   ]
  },
  {
   "cell_type": "markdown",
   "id": "a55909e9",
   "metadata": {},
   "source": [
    "# Load Saved Model"
   ]
  },
  {
   "cell_type": "code",
   "execution_count": 98,
   "id": "f7a5b05f",
   "metadata": {},
   "outputs": [],
   "source": [
    "def create_model():\n",
    "  m = tf.keras.models.Sequential([\n",
    "    tf.keras.layers.Dense(512, activation='relu', input_shape=(784,)),\n",
    "    tf.keras.layers.Dropout(0.2),\n",
    "    tf.keras.layers.Dense(10)\n",
    "  ])\n",
    "\n",
    "  model.compile(optimizer='adam',\n",
    "                loss=tf.losses.SparseCategoricalCrossentropy(from_logits=True),\n",
    "                metrics=[tf.metrics.SparseCategoricalAccuracy()])\n",
    "\n",
    "  return m"
   ]
  },
  {
   "cell_type": "code",
   "execution_count": 101,
   "id": "083dc12b",
   "metadata": {},
   "outputs": [
    {
     "ename": "ValueError",
     "evalue": "This model has not yet been built. Build the model first by calling `build()` or by calling the model on a batch of data.",
     "output_type": "error",
     "traceback": [
      "\u001b[0;31m---------------------------------------------------------------------------\u001b[0m",
      "\u001b[0;31mValueError\u001b[0m                                Traceback (most recent call last)",
      "Cell \u001b[0;32mIn [101], line 10\u001b[0m\n\u001b[1;32m      8\u001b[0m \u001b[38;5;66;03m# Show the model architecture\u001b[39;00m\n\u001b[1;32m      9\u001b[0m new_model\u001b[38;5;241m.\u001b[39mload_weights(\u001b[38;5;124m'\u001b[39m\u001b[38;5;124mmodel_weights/\u001b[39m\u001b[38;5;124m'\u001b[39m)\n\u001b[0;32m---> 10\u001b[0m new_model\u001b[38;5;241m.\u001b[39msummary()\n",
      "File \u001b[0;32m/opt/anaconda3/envs/nlp_projects/lib/python3.10/site-packages/keras/engine/training.py:3214\u001b[0m, in \u001b[0;36mModel.summary\u001b[0;34m(self, line_length, positions, print_fn, expand_nested, show_trainable, layer_range)\u001b[0m\n\u001b[1;32m   3184\u001b[0m \u001b[38;5;124;03m\"\"\"Prints a string summary of the network.\u001b[39;00m\n\u001b[1;32m   3185\u001b[0m \n\u001b[1;32m   3186\u001b[0m \u001b[38;5;124;03mArgs:\u001b[39;00m\n\u001b[0;32m   (...)\u001b[0m\n\u001b[1;32m   3211\u001b[0m \u001b[38;5;124;03m    ValueError: if `summary()` is called before the model is built.\u001b[39;00m\n\u001b[1;32m   3212\u001b[0m \u001b[38;5;124;03m\"\"\"\u001b[39;00m\n\u001b[1;32m   3213\u001b[0m \u001b[38;5;28;01mif\u001b[39;00m \u001b[38;5;129;01mnot\u001b[39;00m \u001b[38;5;28mself\u001b[39m\u001b[38;5;241m.\u001b[39mbuilt:\n\u001b[0;32m-> 3214\u001b[0m     \u001b[38;5;28;01mraise\u001b[39;00m \u001b[38;5;167;01mValueError\u001b[39;00m(\n\u001b[1;32m   3215\u001b[0m         \u001b[38;5;124m\"\u001b[39m\u001b[38;5;124mThis model has not yet been built. \u001b[39m\u001b[38;5;124m\"\u001b[39m\n\u001b[1;32m   3216\u001b[0m         \u001b[38;5;124m\"\u001b[39m\u001b[38;5;124mBuild the model first by calling `build()` or by calling \u001b[39m\u001b[38;5;124m\"\u001b[39m\n\u001b[1;32m   3217\u001b[0m         \u001b[38;5;124m\"\u001b[39m\u001b[38;5;124mthe model on a batch of data.\u001b[39m\u001b[38;5;124m\"\u001b[39m\n\u001b[1;32m   3218\u001b[0m     )\n\u001b[1;32m   3219\u001b[0m layer_utils\u001b[38;5;241m.\u001b[39mprint_summary(\n\u001b[1;32m   3220\u001b[0m     \u001b[38;5;28mself\u001b[39m,\n\u001b[1;32m   3221\u001b[0m     line_length\u001b[38;5;241m=\u001b[39mline_length,\n\u001b[0;32m   (...)\u001b[0m\n\u001b[1;32m   3226\u001b[0m     layer_range\u001b[38;5;241m=\u001b[39mlayer_range,\n\u001b[1;32m   3227\u001b[0m )\n",
      "\u001b[0;31mValueError\u001b[0m: This model has not yet been built. Build the model first by calling `build()` or by calling the model on a batch of data."
     ]
    }
   ],
   "source": [
    "new_model = NLPModel()\n",
    "new_model.compile(\n",
    "    optimizer=tf.keras.optimizers.Adam(learning_rate=1e-3),\n",
    "    loss=tf.keras.losses.SparseCategoricalCrossentropy(),\n",
    "    metrics=['accuracy']\n",
    ")\n",
    "\n",
    "# Show the model architecture\n",
    "new_model.load_weights('model_weights/')\n",
    "new_model.summary()"
   ]
  },
  {
   "cell_type": "markdown",
   "id": "842d818e",
   "metadata": {},
   "source": [
    "# Prueba de APP\n"
   ]
  },
  {
   "cell_type": "code",
   "execution_count": 99,
   "id": "b41a2536",
   "metadata": {},
   "outputs": [],
   "source": [
    "def app(phrase, _DEBUG = _DEBUG):\n",
    "    phrase_seq = tok.texts_to_sequences(phrase)\n",
    "    phrase_seq = pad_sequences(\n",
    "                    phrase_seq,\n",
    "                    padding = 'post',\n",
    "                    maxlen = MAX_LEN,\n",
    "                    truncating = 'post'\n",
    "                )\n",
    "    if _DEBUG :\n",
    "        print(phrase_seq)\n",
    "    \n",
    "    output = model.predict(phrase_seq, batch_size=512, verbose=1)\n",
    "    list_results = {}\n",
    "    for i in range(len(output[0])):\n",
    "        if output[0][i]>=0.1:\n",
    "            list_results[num_to_cls[i]] = output[0][i]\n",
    "\n",
    "    return list_results, output"
   ]
  },
  {
   "cell_type": "code",
   "execution_count": 106,
   "id": "6386c76b",
   "metadata": {},
   "outputs": [
    {
     "name": "stdout",
     "output_type": "stream",
     "text": [
      "[[11396     0     0 ...     0     0     0]\n",
      " [    3     0     0 ...     0     0     0]\n",
      " [ 5704     0     0 ...     0     0     0]\n",
      " ...\n",
      " [    3     0     0 ...     0     0     0]\n",
      " [    9     0     0 ...     0     0     0]\n",
      " [    3     0     0 ...     0     0     0]]\n",
      "1/1 [==============================] - 0s 23ms/step\n"
     ]
    }
   ],
   "source": [
    "phrase = \"habia una vez una persona sentada\"\n",
    "result, output = app(phrase)\n"
   ]
  },
  {
   "cell_type": "code",
   "execution_count": 107,
   "id": "d446c4df",
   "metadata": {},
   "outputs": [
    {
     "name": "stdout",
     "output_type": "stream",
     "text": [
      "[('eng', 0.34160417), ('deu', 0.10362743), ('fin', 0.10270908)]\n"
     ]
    }
   ],
   "source": [
    "import operator\n",
    "print(sorted(result.items(), key=operator.itemgetter(1), reverse=True))"
   ]
  },
  {
   "cell_type": "code",
   "execution_count": 105,
   "id": "04069bdc",
   "metadata": {},
   "outputs": [
    {
     "data": {
      "text/plain": [
       "'Kabyle'"
      ]
     },
     "metadata": {},
     "output_type": "display_data"
    }
   ],
   "source": [
    "with open(\"./data/language.json\") as f:\n",
    "    lan_to_language = json.load(f)\n",
    "display(lan_to_language['kab'])"
   ]
  },
  {
   "cell_type": "code",
   "execution_count": null,
   "id": "bc48a473",
   "metadata": {},
   "outputs": [],
   "source": []
  },
  {
   "cell_type": "markdown",
   "id": "e0c6d71f",
   "metadata": {},
   "source": [
    "# Anexos"
   ]
  },
  {
   "cell_type": "markdown",
   "id": "eb0565bf",
   "metadata": {},
   "source": [
    "## confusion matrix"
   ]
  },
  {
   "cell_type": "code",
   "execution_count": 29,
   "id": "15103d4f",
   "metadata": {
    "scrolled": true
   },
   "outputs": [
    {
     "data": {
      "image/png": "[encoded data removed]",
      "text/plain": [
       "<Figure size 1200x1200 with 2 Axes>"
      ]
     },
     "metadata": {},
     "output_type": "display_data"
    }
   ],
   "source": [
    "plt.figure(figsize=(12, 12))\n",
    "ax = sns.heatmap(conf_mat_precision, vmin=0, vmax=1)\n",
    "cbar = ax.collections[0].colorbar\n",
    "cbar.set_ticks([0, .25, 0.5, .75, 1])\n",
    "cbar.set_ticklabels(['0%', '25%', '50%', '75%', '100%'])\n",
    "plt.show()"
   ]
  }
 ],
 "metadata": {
  "hide_input": false,
  "kernelspec": {
   "display_name": "Python 3 (ipykernel)",
   "language": "python",
   "name": "python3"
  },
  "language_info": {
   "codemirror_mode": {
    "name": "ipython",
    "version": 3
   },
   "file_extension": ".py",
   "mimetype": "text/x-python",
   "name": "python",
   "nbconvert_exporter": "python",
   "pygments_lexer": "ipython3",
   "version": "3.10.6"
  },
  "toc": {
   "base_numbering": 1,
   "nav_menu": {},
   "number_sections": true,
   "sideBar": true,
   "skip_h1_title": false,
   "title_cell": "Table of Contents",
   "title_sidebar": "Contents",
   "toc_cell": false,
   "toc_position": {},
   "toc_section_display": true,
   "toc_window_display": true
  },
  "varInspector": {
   "cols": {
    "lenName": 16,
    "lenType": 16,
    "lenVar": 40
   },
   "kernels_config": {
    "python": {
     "delete_cmd_postfix": "",
     "delete_cmd_prefix": "del ",
     "library": "var_list.py",
     "varRefreshCmd": "print(var_dic_list())"
    },
    "r": {
     "delete_cmd_postfix": ") ",
     "delete_cmd_prefix": "rm(",
     "library": "var_list.r",
     "varRefreshCmd": "cat(var_dic_list()) "
    }
   },
   "position": {
    "height": "247.844px",
    "left": "1019px",
    "right": "20px",
    "top": "95px",
    "width": "643px"
   },
   "types_to_exclude": [
    "module",
    "function",
    "builtin_function_or_method",
    "instance",
    "_Feature"
   ],
   "window_display": true
  },
  "vscode": {
   "interpreter": {
    "hash": "406ac3d6657a49fe5e106d91c2d84d36a89fb442eaf307d23e18627975a48d80"
   }
  }
 },
 "nbformat": 4,
 "nbformat_minor": 5
}
