{
 "cells": [
  {
   "cell_type": "markdown",
   "id": "87766d7c",
   "metadata": {},
   "source": [
    "# Language Identification Model\n"
   ]
  },
  {
   "cell_type": "code",
   "execution_count": 1,
   "id": "00f612dd",
   "metadata": {},
   "outputs": [],
   "source": [
    "### TO DEBUGGIN'\n",
    "_DEBUG = True"
   ]
  },
  {
   "cell_type": "markdown",
   "id": "80b1b819",
   "metadata": {},
   "source": [
    "## Load Package"
   ]
  },
  {
   "cell_type": "code",
   "execution_count": 2,
   "id": "57c36656",
   "metadata": {},
   "outputs": [
    {
     "ename": "ModuleNotFoundError",
     "evalue": "No module named 'tensorflow'",
     "output_type": "error",
     "traceback": [
      "\u001b[0;31m---------------------------------------------------------------------------\u001b[0m",
      "\u001b[0;31mModuleNotFoundError\u001b[0m                       Traceback (most recent call last)",
      "\u001b[0;32m/var/folders/yn/2g_d2cb56j1c3xc3nk7jmqrr0000gn/T/ipykernel_4682/2501779243.py\u001b[0m in \u001b[0;36m<module>\u001b[0;34m\u001b[0m\n\u001b[1;32m      7\u001b[0m \u001b[0;34m\u001b[0m\u001b[0m\n\u001b[1;32m      8\u001b[0m \u001b[0;31m# to make neural netowrk model, sequencing and tokenizing\u001b[0m\u001b[0;34m\u001b[0m\u001b[0;34m\u001b[0m\u001b[0m\n\u001b[0;32m----> 9\u001b[0;31m \u001b[0;32mimport\u001b[0m \u001b[0mtensorflow\u001b[0m \u001b[0;32mas\u001b[0m \u001b[0mtf\u001b[0m\u001b[0;34m\u001b[0m\u001b[0;34m\u001b[0m\u001b[0m\n\u001b[0m\u001b[1;32m     10\u001b[0m \u001b[0;34m\u001b[0m\u001b[0m\n\u001b[1;32m     11\u001b[0m \u001b[0;32mfrom\u001b[0m \u001b[0mtensorflow\u001b[0m\u001b[0;34m.\u001b[0m\u001b[0mkeras\u001b[0m\u001b[0;34m.\u001b[0m\u001b[0mpreprocessing\u001b[0m\u001b[0;34m.\u001b[0m\u001b[0mtext\u001b[0m \u001b[0;32mimport\u001b[0m \u001b[0mTokenizer\u001b[0m\u001b[0;34m\u001b[0m\u001b[0;34m\u001b[0m\u001b[0m\n",
      "\u001b[0;31mModuleNotFoundError\u001b[0m: No module named 'tensorflow'"
     ]
    }
   ],
   "source": [
    "# to load and manipulate data\n",
    "import pandas as pd\n",
    "import numpy as np\n",
    "import os\n",
    "import json\n",
    "from sklearn.model_selection import train_test_split\n",
    "\n",
    "# to make neural netowrk model, sequencing and tokenizing\n",
    "import tensorflow as tf\n",
    "\n",
    "from tensorflow.keras.preprocessing.text import Tokenizer\n",
    "from tensorflow.keras.preprocessing.sequence import pad_sequences\n",
    "from tensorflow.keras import layers\n",
    "\n",
    "# to evaluate and display results\n",
    "from sklearn.metrics import  confusion_matrix, accuracy_score\n",
    "import seaborn as sns\n",
    "import matplotlib.pyplot as plt"
   ]
  },
  {
   "cell_type": "code",
   "execution_count": 3,
   "id": "b5bad5aa",
   "metadata": {},
   "outputs": [],
   "source": [
    "import squarify"
   ]
  },
  {
   "cell_type": "markdown",
   "id": "fd801346",
   "metadata": {},
   "source": [
    "## Load Data"
   ]
  },
  {
   "cell_type": "code",
   "execution_count": 3,
   "id": "28fb2f86",
   "metadata": {},
   "outputs": [],
   "source": [
    "## print paths\n",
    "for root, dirs, files in os.walk('./data'):\n",
    "    for filename in files:\n",
    "        print(os.path.join(root,filename))"
   ]
  },
  {
   "cell_type": "code",
   "execution_count": 4,
   "id": "4acc594c",
   "metadata": {},
   "outputs": [
    {
     "ename": "FileNotFoundError",
     "evalue": "[Errno 2] No such file or directory: './data/sentences.csv'",
     "output_type": "error",
     "traceback": [
      "\u001b[0;31m---------------------------------------------------------------------------\u001b[0m",
      "\u001b[0;31mFileNotFoundError\u001b[0m                         Traceback (most recent call last)",
      "\u001b[0;32m<timed exec>\u001b[0m in \u001b[0;36m<module>\u001b[0;34m\u001b[0m\n",
      "\u001b[0;32m/opt/anaconda3/lib/python3.9/site-packages/pandas/util/_decorators.py\u001b[0m in \u001b[0;36mwrapper\u001b[0;34m(*args, **kwargs)\u001b[0m\n\u001b[1;32m    309\u001b[0m                     \u001b[0mstacklevel\u001b[0m\u001b[0;34m=\u001b[0m\u001b[0mstacklevel\u001b[0m\u001b[0;34m,\u001b[0m\u001b[0;34m\u001b[0m\u001b[0;34m\u001b[0m\u001b[0m\n\u001b[1;32m    310\u001b[0m                 )\n\u001b[0;32m--> 311\u001b[0;31m             \u001b[0;32mreturn\u001b[0m \u001b[0mfunc\u001b[0m\u001b[0;34m(\u001b[0m\u001b[0;34m*\u001b[0m\u001b[0margs\u001b[0m\u001b[0;34m,\u001b[0m \u001b[0;34m**\u001b[0m\u001b[0mkwargs\u001b[0m\u001b[0;34m)\u001b[0m\u001b[0;34m\u001b[0m\u001b[0;34m\u001b[0m\u001b[0m\n\u001b[0m\u001b[1;32m    312\u001b[0m \u001b[0;34m\u001b[0m\u001b[0m\n\u001b[1;32m    313\u001b[0m         \u001b[0;32mreturn\u001b[0m \u001b[0mwrapper\u001b[0m\u001b[0;34m\u001b[0m\u001b[0;34m\u001b[0m\u001b[0m\n",
      "\u001b[0;32m/opt/anaconda3/lib/python3.9/site-packages/pandas/io/parsers/readers.py\u001b[0m in \u001b[0;36mread_csv\u001b[0;34m(filepath_or_buffer, sep, delimiter, header, names, index_col, usecols, squeeze, prefix, mangle_dupe_cols, dtype, engine, converters, true_values, false_values, skipinitialspace, skiprows, skipfooter, nrows, na_values, keep_default_na, na_filter, verbose, skip_blank_lines, parse_dates, infer_datetime_format, keep_date_col, date_parser, dayfirst, cache_dates, iterator, chunksize, compression, thousands, decimal, lineterminator, quotechar, quoting, doublequote, escapechar, comment, encoding, encoding_errors, dialect, error_bad_lines, warn_bad_lines, on_bad_lines, delim_whitespace, low_memory, memory_map, float_precision, storage_options)\u001b[0m\n\u001b[1;32m    678\u001b[0m     \u001b[0mkwds\u001b[0m\u001b[0;34m.\u001b[0m\u001b[0mupdate\u001b[0m\u001b[0;34m(\u001b[0m\u001b[0mkwds_defaults\u001b[0m\u001b[0;34m)\u001b[0m\u001b[0;34m\u001b[0m\u001b[0;34m\u001b[0m\u001b[0m\n\u001b[1;32m    679\u001b[0m \u001b[0;34m\u001b[0m\u001b[0m\n\u001b[0;32m--> 680\u001b[0;31m     \u001b[0;32mreturn\u001b[0m \u001b[0m_read\u001b[0m\u001b[0;34m(\u001b[0m\u001b[0mfilepath_or_buffer\u001b[0m\u001b[0;34m,\u001b[0m \u001b[0mkwds\u001b[0m\u001b[0;34m)\u001b[0m\u001b[0;34m\u001b[0m\u001b[0;34m\u001b[0m\u001b[0m\n\u001b[0m\u001b[1;32m    681\u001b[0m \u001b[0;34m\u001b[0m\u001b[0m\n\u001b[1;32m    682\u001b[0m \u001b[0;34m\u001b[0m\u001b[0m\n",
      "\u001b[0;32m/opt/anaconda3/lib/python3.9/site-packages/pandas/io/parsers/readers.py\u001b[0m in \u001b[0;36m_read\u001b[0;34m(filepath_or_buffer, kwds)\u001b[0m\n\u001b[1;32m    573\u001b[0m \u001b[0;34m\u001b[0m\u001b[0m\n\u001b[1;32m    574\u001b[0m     \u001b[0;31m# Create the parser.\u001b[0m\u001b[0;34m\u001b[0m\u001b[0;34m\u001b[0m\u001b[0m\n\u001b[0;32m--> 575\u001b[0;31m     \u001b[0mparser\u001b[0m \u001b[0;34m=\u001b[0m \u001b[0mTextFileReader\u001b[0m\u001b[0;34m(\u001b[0m\u001b[0mfilepath_or_buffer\u001b[0m\u001b[0;34m,\u001b[0m \u001b[0;34m**\u001b[0m\u001b[0mkwds\u001b[0m\u001b[0;34m)\u001b[0m\u001b[0;34m\u001b[0m\u001b[0;34m\u001b[0m\u001b[0m\n\u001b[0m\u001b[1;32m    576\u001b[0m \u001b[0;34m\u001b[0m\u001b[0m\n\u001b[1;32m    577\u001b[0m     \u001b[0;32mif\u001b[0m \u001b[0mchunksize\u001b[0m \u001b[0;32mor\u001b[0m \u001b[0miterator\u001b[0m\u001b[0;34m:\u001b[0m\u001b[0;34m\u001b[0m\u001b[0;34m\u001b[0m\u001b[0m\n",
      "\u001b[0;32m/opt/anaconda3/lib/python3.9/site-packages/pandas/io/parsers/readers.py\u001b[0m in \u001b[0;36m__init__\u001b[0;34m(self, f, engine, **kwds)\u001b[0m\n\u001b[1;32m    931\u001b[0m \u001b[0;34m\u001b[0m\u001b[0m\n\u001b[1;32m    932\u001b[0m         \u001b[0mself\u001b[0m\u001b[0;34m.\u001b[0m\u001b[0mhandles\u001b[0m\u001b[0;34m:\u001b[0m \u001b[0mIOHandles\u001b[0m \u001b[0;34m|\u001b[0m \u001b[0;32mNone\u001b[0m \u001b[0;34m=\u001b[0m \u001b[0;32mNone\u001b[0m\u001b[0;34m\u001b[0m\u001b[0;34m\u001b[0m\u001b[0m\n\u001b[0;32m--> 933\u001b[0;31m         \u001b[0mself\u001b[0m\u001b[0;34m.\u001b[0m\u001b[0m_engine\u001b[0m \u001b[0;34m=\u001b[0m \u001b[0mself\u001b[0m\u001b[0;34m.\u001b[0m\u001b[0m_make_engine\u001b[0m\u001b[0;34m(\u001b[0m\u001b[0mf\u001b[0m\u001b[0;34m,\u001b[0m \u001b[0mself\u001b[0m\u001b[0;34m.\u001b[0m\u001b[0mengine\u001b[0m\u001b[0;34m)\u001b[0m\u001b[0;34m\u001b[0m\u001b[0;34m\u001b[0m\u001b[0m\n\u001b[0m\u001b[1;32m    934\u001b[0m \u001b[0;34m\u001b[0m\u001b[0m\n\u001b[1;32m    935\u001b[0m     \u001b[0;32mdef\u001b[0m \u001b[0mclose\u001b[0m\u001b[0;34m(\u001b[0m\u001b[0mself\u001b[0m\u001b[0;34m)\u001b[0m\u001b[0;34m:\u001b[0m\u001b[0;34m\u001b[0m\u001b[0;34m\u001b[0m\u001b[0m\n",
      "\u001b[0;32m/opt/anaconda3/lib/python3.9/site-packages/pandas/io/parsers/readers.py\u001b[0m in \u001b[0;36m_make_engine\u001b[0;34m(self, f, engine)\u001b[0m\n\u001b[1;32m   1215\u001b[0m             \u001b[0;31m# \"Union[str, PathLike[str], ReadCsvBuffer[bytes], ReadCsvBuffer[str]]\"\u001b[0m\u001b[0;34m\u001b[0m\u001b[0;34m\u001b[0m\u001b[0m\n\u001b[1;32m   1216\u001b[0m             \u001b[0;31m# , \"str\", \"bool\", \"Any\", \"Any\", \"Any\", \"Any\", \"Any\"\u001b[0m\u001b[0;34m\u001b[0m\u001b[0;34m\u001b[0m\u001b[0m\n\u001b[0;32m-> 1217\u001b[0;31m             self.handles = get_handle(  # type: ignore[call-overload]\n\u001b[0m\u001b[1;32m   1218\u001b[0m                 \u001b[0mf\u001b[0m\u001b[0;34m,\u001b[0m\u001b[0;34m\u001b[0m\u001b[0;34m\u001b[0m\u001b[0m\n\u001b[1;32m   1219\u001b[0m                 \u001b[0mmode\u001b[0m\u001b[0;34m,\u001b[0m\u001b[0;34m\u001b[0m\u001b[0;34m\u001b[0m\u001b[0m\n",
      "\u001b[0;32m/opt/anaconda3/lib/python3.9/site-packages/pandas/io/common.py\u001b[0m in \u001b[0;36mget_handle\u001b[0;34m(path_or_buf, mode, encoding, compression, memory_map, is_text, errors, storage_options)\u001b[0m\n\u001b[1;32m    787\u001b[0m         \u001b[0;32mif\u001b[0m \u001b[0mioargs\u001b[0m\u001b[0;34m.\u001b[0m\u001b[0mencoding\u001b[0m \u001b[0;32mand\u001b[0m \u001b[0;34m\"b\"\u001b[0m \u001b[0;32mnot\u001b[0m \u001b[0;32min\u001b[0m \u001b[0mioargs\u001b[0m\u001b[0;34m.\u001b[0m\u001b[0mmode\u001b[0m\u001b[0;34m:\u001b[0m\u001b[0;34m\u001b[0m\u001b[0;34m\u001b[0m\u001b[0m\n\u001b[1;32m    788\u001b[0m             \u001b[0;31m# Encoding\u001b[0m\u001b[0;34m\u001b[0m\u001b[0;34m\u001b[0m\u001b[0m\n\u001b[0;32m--> 789\u001b[0;31m             handle = open(\n\u001b[0m\u001b[1;32m    790\u001b[0m                 \u001b[0mhandle\u001b[0m\u001b[0;34m,\u001b[0m\u001b[0;34m\u001b[0m\u001b[0;34m\u001b[0m\u001b[0m\n\u001b[1;32m    791\u001b[0m                 \u001b[0mioargs\u001b[0m\u001b[0;34m.\u001b[0m\u001b[0mmode\u001b[0m\u001b[0;34m,\u001b[0m\u001b[0;34m\u001b[0m\u001b[0;34m\u001b[0m\u001b[0m\n",
      "\u001b[0;31mFileNotFoundError\u001b[0m: [Errno 2] No such file or directory: './data/sentences.csv'"
     ]
    }
   ],
   "source": [
    "%%time\n",
    "## vamos a medir el TIME de esta shit\n",
    "\n",
    "df = pd.read_csv(\"./data/sentences.csv\")"
   ]
  },
  {
   "cell_type": "markdown",
   "id": "b67cb6e3",
   "metadata": {},
   "source": [
    "## Data Cleansing"
   ]
  },
  {
   "cell_type": "code",
   "execution_count": 6,
   "id": "d4eeb9d7",
   "metadata": {},
   "outputs": [],
   "source": [
    "## eliminar columna maldita que esta de mas ID\n",
    "df.drop(columns=['id'],inplace=True)"
   ]
  },
  {
   "cell_type": "code",
   "execution_count": 7,
   "id": "40dcd088",
   "metadata": {},
   "outputs": [
    {
     "data": {
      "text/html": [
       "<div>\n",
       "<style scoped>\n",
       "    .dataframe tbody tr th:only-of-type {\n",
       "        vertical-align: middle;\n",
       "    }\n",
       "\n",
       "    .dataframe tbody tr th {\n",
       "        vertical-align: top;\n",
       "    }\n",
       "\n",
       "    .dataframe thead th {\n",
       "        text-align: right;\n",
       "    }\n",
       "</style>\n",
       "<table border=\"1\" class=\"dataframe\">\n",
       "  <thead>\n",
       "    <tr style=\"text-align: right;\">\n",
       "      <th></th>\n",
       "      <th>lan_code</th>\n",
       "      <th>sentence</th>\n",
       "    </tr>\n",
       "  </thead>\n",
       "  <tbody>\n",
       "    <tr>\n",
       "      <th>0</th>\n",
       "      <td>cmn</td>\n",
       "      <td>我們試試看！</td>\n",
       "    </tr>\n",
       "    <tr>\n",
       "      <th>1</th>\n",
       "      <td>cmn</td>\n",
       "      <td>我该去睡觉了。</td>\n",
       "    </tr>\n",
       "    <tr>\n",
       "      <th>2</th>\n",
       "      <td>cmn</td>\n",
       "      <td>你在干什麼啊？</td>\n",
       "    </tr>\n",
       "    <tr>\n",
       "      <th>3</th>\n",
       "      <td>cmn</td>\n",
       "      <td>這是什麼啊？</td>\n",
       "    </tr>\n",
       "    <tr>\n",
       "      <th>4</th>\n",
       "      <td>cmn</td>\n",
       "      <td>今天是６月１８号，也是Muiriel的生日！</td>\n",
       "    </tr>\n",
       "  </tbody>\n",
       "</table>\n",
       "</div>"
      ],
      "text/plain": [
       "  lan_code                sentence\n",
       "0      cmn                  我們試試看！\n",
       "1      cmn                 我该去睡觉了。\n",
       "2      cmn                 你在干什麼啊？\n",
       "3      cmn                  這是什麼啊？\n",
       "4      cmn  今天是６月１８号，也是Muiriel的生日！"
      ]
     },
     "execution_count": 7,
     "metadata": {},
     "output_type": "execute_result"
    }
   ],
   "source": [
    "df.head()"
   ]
  },
  {
   "cell_type": "code",
   "execution_count": 8,
   "id": "24fbb44f",
   "metadata": {},
   "outputs": [
    {
     "data": {
      "text/html": [
       "<div>\n",
       "<style scoped>\n",
       "    .dataframe tbody tr th:only-of-type {\n",
       "        vertical-align: middle;\n",
       "    }\n",
       "\n",
       "    .dataframe tbody tr th {\n",
       "        vertical-align: top;\n",
       "    }\n",
       "\n",
       "    .dataframe thead th {\n",
       "        text-align: right;\n",
       "    }\n",
       "</style>\n",
       "<table border=\"1\" class=\"dataframe\">\n",
       "  <thead>\n",
       "    <tr style=\"text-align: right;\">\n",
       "      <th></th>\n",
       "      <th>lan_code</th>\n",
       "      <th>sentence</th>\n",
       "    </tr>\n",
       "  </thead>\n",
       "  <tbody>\n",
       "    <tr>\n",
       "      <th>count</th>\n",
       "      <td>10341812</td>\n",
       "      <td>10341812</td>\n",
       "    </tr>\n",
       "    <tr>\n",
       "      <th>unique</th>\n",
       "      <td>404</td>\n",
       "      <td>10330761</td>\n",
       "    </tr>\n",
       "    <tr>\n",
       "      <th>top</th>\n",
       "      <td>eng</td>\n",
       "      <td>Bravo!</td>\n",
       "    </tr>\n",
       "    <tr>\n",
       "      <th>freq</th>\n",
       "      <td>1586621</td>\n",
       "      <td>11</td>\n",
       "    </tr>\n",
       "  </tbody>\n",
       "</table>\n",
       "</div>"
      ],
      "text/plain": [
       "        lan_code  sentence\n",
       "count   10341812  10341812\n",
       "unique       404  10330761\n",
       "top          eng    Bravo!\n",
       "freq     1586621        11"
      ]
     },
     "metadata": {},
     "output_type": "display_data"
    }
   ],
   "source": [
    "## [x] no hay sentencias sin code - :D!\n",
    "if _DEBUG:\n",
    "    display(df.describe())"
   ]
  },
  {
   "cell_type": "code",
   "execution_count": 9,
   "id": "d31ecff8",
   "metadata": {},
   "outputs": [
    {
     "name": "stdout",
     "output_type": "stream",
     "text": [
      "Code LANGUAGE with less frequency than 10: sentence    277\n",
      "dtype: int64\n"
     ]
    },
    {
     "data": {
      "image/png": "[encoded data removed]",
      "text/plain": [
       "<Figure size 1000x1000 with 1 Axes>"
      ]
     },
     "metadata": {},
     "output_type": "display_data"
    }
   ],
   "source": [
    "if _DEBUG:\n",
    "    df_exploration = df.groupby(\"lan_code\").count().sort_values(\"sentence\",ascending = False)\n",
    "\n",
    "    #!# posiblemente cuando se entrene el modelo los de baja frecuencia no va a predecir correctamente\n",
    "    #!# como posible opcion 1 analizar con todo y luego ver el impacto de remover esos code lan con freq 1\n",
    "    \n",
    "    count_freq_1 = df_exploration[df_exploration.sentence<=10].sum()\n",
    "    print(\"Code LANGUAGE with less frequency than 10: {}\".format(count_freq_1))\n",
    "    \n",
    "    ## GRAPH - TREEMAP\n",
    "    sizes_treemap = df_exploration[\"sentence\"].tolist()\n",
    "    labels_treemap = df_exploration.index.values.tolist()\n",
    "    \n",
    "    plt.figure(figsize=(10,10))\n",
    "    squarify.plot(sizes = sizes_treemap, label = labels_treemap, alpha=0.2)\n",
    "    plt.show()\n",
    "    \n",
    "    del df_exploration"
   ]
  },
  {
   "cell_type": "markdown",
   "id": "9c0dade4",
   "metadata": {},
   "source": [
    "## Preprocessing Data - FULL dataset sentences"
   ]
  },
  {
   "cell_type": "code",
   "execution_count": 10,
   "id": "337dfdaa",
   "metadata": {},
   "outputs": [
    {
     "name": "stdout",
     "output_type": "stream",
     "text": [
      "Count of Classes: 404\n"
     ]
    }
   ],
   "source": [
    "# ENCODING CLASSES (cod language)\n",
    "classes_list = list(df.lan_code.unique())\n",
    "print(\"Count of Classes: {}\".format(len(classes_list)))"
   ]
  },
  {
   "cell_type": "code",
   "execution_count": 11,
   "id": "499c0b49",
   "metadata": {},
   "outputs": [],
   "source": [
    "## crearemos dos dic para usos posteriores de transformacion\n",
    "\n",
    "cls_to_num = {\n",
    "    cls : i\n",
    "    for i,cls in enumerate(classes_list)\n",
    "}\n",
    "\n",
    "num_to_cls = {\n",
    "    i : cls\n",
    "    for cls,i in cls_to_num.items()\n",
    "}"
   ]
  },
  {
   "cell_type": "code",
   "execution_count": 12,
   "id": "4ba360de",
   "metadata": {},
   "outputs": [
    {
     "data": {
      "text/html": [
       "<div>\n",
       "<style scoped>\n",
       "    .dataframe tbody tr th:only-of-type {\n",
       "        vertical-align: middle;\n",
       "    }\n",
       "\n",
       "    .dataframe tbody tr th {\n",
       "        vertical-align: top;\n",
       "    }\n",
       "\n",
       "    .dataframe thead th {\n",
       "        text-align: right;\n",
       "    }\n",
       "</style>\n",
       "<table border=\"1\" class=\"dataframe\">\n",
       "  <thead>\n",
       "    <tr style=\"text-align: right;\">\n",
       "      <th></th>\n",
       "      <th>lan_code</th>\n",
       "      <th>sentence</th>\n",
       "    </tr>\n",
       "  </thead>\n",
       "  <tbody>\n",
       "    <tr>\n",
       "      <th>0</th>\n",
       "      <td>cmn</td>\n",
       "      <td>我們試試看！</td>\n",
       "    </tr>\n",
       "    <tr>\n",
       "      <th>1</th>\n",
       "      <td>cmn</td>\n",
       "      <td>我该去睡觉了。</td>\n",
       "    </tr>\n",
       "    <tr>\n",
       "      <th>2</th>\n",
       "      <td>cmn</td>\n",
       "      <td>你在干什麼啊？</td>\n",
       "    </tr>\n",
       "    <tr>\n",
       "      <th>3</th>\n",
       "      <td>cmn</td>\n",
       "      <td>這是什麼啊？</td>\n",
       "    </tr>\n",
       "    <tr>\n",
       "      <th>4</th>\n",
       "      <td>cmn</td>\n",
       "      <td>今天是６月１８号，也是Muiriel的生日！</td>\n",
       "    </tr>\n",
       "  </tbody>\n",
       "</table>\n",
       "</div>"
      ],
      "text/plain": [
       "  lan_code                sentence\n",
       "0      cmn                  我們試試看！\n",
       "1      cmn                 我该去睡觉了。\n",
       "2      cmn                 你在干什麼啊？\n",
       "3      cmn                  這是什麼啊？\n",
       "4      cmn  今天是６月１８号，也是Muiriel的生日！"
      ]
     },
     "metadata": {},
     "output_type": "display_data"
    },
    {
     "data": {
      "text/html": [
       "<div>\n",
       "<style scoped>\n",
       "    .dataframe tbody tr th:only-of-type {\n",
       "        vertical-align: middle;\n",
       "    }\n",
       "\n",
       "    .dataframe tbody tr th {\n",
       "        vertical-align: top;\n",
       "    }\n",
       "\n",
       "    .dataframe thead th {\n",
       "        text-align: right;\n",
       "    }\n",
       "</style>\n",
       "<table border=\"1\" class=\"dataframe\">\n",
       "  <thead>\n",
       "    <tr style=\"text-align: right;\">\n",
       "      <th></th>\n",
       "      <th>lan_code</th>\n",
       "      <th>sentence</th>\n",
       "    </tr>\n",
       "  </thead>\n",
       "  <tbody>\n",
       "    <tr>\n",
       "      <th>0</th>\n",
       "      <td>0</td>\n",
       "      <td>我們試試看！</td>\n",
       "    </tr>\n",
       "    <tr>\n",
       "      <th>1</th>\n",
       "      <td>0</td>\n",
       "      <td>我该去睡觉了。</td>\n",
       "    </tr>\n",
       "    <tr>\n",
       "      <th>2</th>\n",
       "      <td>0</td>\n",
       "      <td>你在干什麼啊？</td>\n",
       "    </tr>\n",
       "    <tr>\n",
       "      <th>3</th>\n",
       "      <td>0</td>\n",
       "      <td>這是什麼啊？</td>\n",
       "    </tr>\n",
       "    <tr>\n",
       "      <th>4</th>\n",
       "      <td>0</td>\n",
       "      <td>今天是６月１８号，也是Muiriel的生日！</td>\n",
       "    </tr>\n",
       "  </tbody>\n",
       "</table>\n",
       "</div>"
      ],
      "text/plain": [
       "   lan_code                sentence\n",
       "0         0                  我們試試看！\n",
       "1         0                 我该去睡觉了。\n",
       "2         0                 你在干什麼啊？\n",
       "3         0                  這是什麼啊？\n",
       "4         0  今天是６月１８号，也是Muiriel的生日！"
      ]
     },
     "metadata": {},
     "output_type": "display_data"
    }
   ],
   "source": [
    "## cambiar el string-code por int-code para ingresarlos al modelo\n",
    "\n",
    "display(df.head())\n",
    "df.lan_code = df.lan_code.map(cls_to_num).astype(int)\n",
    "display(df.head())"
   ]
  },
  {
   "cell_type": "markdown",
   "id": "02179fb9",
   "metadata": {},
   "source": [
    "## Subset Train & Test"
   ]
  },
  {
   "cell_type": "code",
   "execution_count": 13,
   "id": "8cb045cf",
   "metadata": {},
   "outputs": [
    {
     "data": {
      "text/plain": [
       "array(['我們試試看！', '我该去睡觉了。', '你在干什麼啊？', ..., 'Los botaron.',\n",
       "       'Los hicieron correr.', 'Los corrieron.'], dtype=object)"
      ]
     },
     "metadata": {},
     "output_type": "display_data"
    },
    {
     "data": {
      "text/plain": [
       "array([0, 0, 0, ..., 6, 6, 6])"
      ]
     },
     "metadata": {},
     "output_type": "display_data"
    }
   ],
   "source": [
    "# Lista de Sentencias\n",
    "X = df.pop('sentence').values\n",
    "\n",
    "# Lista de CODE LAN \n",
    "y = df.copy().values.T[0]\n",
    "\n",
    "if _DEBUG:\n",
    "    display(X)\n",
    "    display(y)"
   ]
  },
  {
   "cell_type": "code",
   "execution_count": 14,
   "id": "8a0c148c",
   "metadata": {},
   "outputs": [],
   "source": [
    "## liberamos memoria virtual (RAM)\n",
    "del df"
   ]
  },
  {
   "cell_type": "code",
   "execution_count": 15,
   "id": "0c06aef2",
   "metadata": {},
   "outputs": [],
   "source": [
    "X_train, X_test, y_train, y_test = train_test_split(\n",
    "    X,y,\n",
    "    train_size=0.8,\n",
    "    random_state=50,\n",
    "    shuffle = True\n",
    ")\n",
    "\n",
    "## liberamos memoria virtual (RAM)\n",
    "del X, y"
   ]
  },
  {
   "cell_type": "markdown",
   "id": "36cb59f9",
   "metadata": {},
   "source": [
    "# Tokenization\n",
    "\n",
    "Usaremos este metodo para procesar los datos input para el modelo:\n",
    "\n",
    "mas info: https://towardsdatascience.com/tokenization-for-natural-language-processing-a179a891bad4\n"
   ]
  },
  {
   "cell_type": "markdown",
   "id": "51c56603",
   "metadata": {},
   "source": [
    "### Sentencias -> Secuencias de palabras\n"
   ]
  },
  {
   "cell_type": "code",
   "execution_count": 17,
   "id": "a2734a5d",
   "metadata": {},
   "outputs": [],
   "source": [
    "## parametros\n",
    "\n",
    "NUM_WORDS = 1000000\n",
    "MAX_LEN = 100\n",
    "NUM_CLASSES = 404 # esto lo sacamos de arriba"
   ]
  },
  {
   "cell_type": "code",
   "execution_count": 18,
   "id": "1a03dfcd",
   "metadata": {},
   "outputs": [],
   "source": [
    "def tokenize_and_sequence(\n",
    "                            train_sentences,\n",
    "                            test_sentences\n",
    "                            ):\n",
    "    tok = Tokenizer(num_words = NUM_WORDS, oov_token='<OOV>')\n",
    "    tok.fit_on_texts(train_sentences)\n",
    "    \n",
    "    # training set\n",
    "    train_seq = tok.texts_to_sequences(train_sentences)\n",
    "    train_seq = pad_sequences(\n",
    "                    train_seq,\n",
    "                    padding = 'post',\n",
    "                    maxlen = MAX_LEN,\n",
    "                    truncating = 'post'\n",
    "                )\n",
    "    \n",
    "    # testing set\n",
    "    test_seq = tok.texts_to_sequences(test_sentences)\n",
    "    test_seq = pad_sequences(\n",
    "                    test_seq,\n",
    "                    padding = 'post',\n",
    "                    maxlen = MAX_LEN,\n",
    "                    truncating = 'post'\n",
    "                )\n",
    "    if _DEBUG:\n",
    "        print(tok.get_config())\n",
    "    \n",
    "    return train_seq, test_seq, tok"
   ]
  },
  {
   "cell_type": "code",
   "execution_count": 19,
   "id": "15abbe8e",
   "metadata": {},
   "outputs": [
    {
     "name": "stderr",
     "output_type": "stream",
     "text": [
      "IOPub data rate exceeded.\n",
      "The notebook server will temporarily stop sending output\n",
      "to the client in order to avoid crashing it.\n",
      "To change this limit, set the config variable\n",
      "`--NotebookApp.iopub_data_rate_limit`.\n",
      "\n",
      "Current values:\n",
      "NotebookApp.iopub_data_rate_limit=1000000.0 (bytes/sec)\n",
      "NotebookApp.rate_limit_window=3.0 (secs)\n",
      "\n"
     ]
    }
   ],
   "source": [
    "%%time\n",
    "## call function \n",
    "X_train, X_test, tok = tokenize_and_sequence(X_train, X_test)\n",
    "\n",
    "# WARNING: problemas de tiempo de respuesta, se debe cambiar la config del notebook"
   ]
  },
  {
   "cell_type": "code",
   "execution_count": 20,
   "id": "e63946da",
   "metadata": {},
   "outputs": [
    {
     "name": "stdout",
     "output_type": "stream",
     "text": [
      "(8273449, 100)\n",
      "(2068363, 100)\n"
     ]
    }
   ],
   "source": [
    "if _DEBUG:\n",
    "    print(X_train.shape)\n",
    "    print(X_test.shape)"
   ]
  },
  {
   "cell_type": "markdown",
   "id": "e7407a26",
   "metadata": {},
   "source": [
    "# Model NLP"
   ]
  },
  {
   "cell_type": "markdown",
   "id": "847c0ca0",
   "metadata": {},
   "source": [
    "## Build Model"
   ]
  },
  {
   "cell_type": "markdown",
   "id": "49fb2438",
   "metadata": {},
   "source": [
    "- Embedding layer son capas de palabras previamente entrenadas como GloVe, se usan mucho en NLP.\n",
    "- LSTM : capa de memoria a largo plazo\n",
    "- Dense: capa densa conectada normal\n",
    "- Dropout: ayuda a evitar el sobreajuste en la entrada\n",
    "\n",
    "Funciones de Activacion: https://towardsdatascience.com/7-popular-activation-functions-you-should-know-in-deep-learning-and-how-to-use-them-with-keras-and-27b4d838dfe6\n",
    "\n",
    "Ocupamos:\n",
    "- ReLu\n",
    "- Softmax: se usa muy amenudo en la ultima capa de la red, como FA. dado que el resultado se podria interpretar como una D. P. "
   ]
  },
  {
   "cell_type": "code",
   "execution_count": 21,
   "id": "119f8c46",
   "metadata": {},
   "outputs": [],
   "source": [
    "## heredamos la clases tf.keras.model (Classic)\n",
    "class NLPModel(tf.keras.Model):\n",
    "    def __init__(self,\n",
    "                vocad_dim = NUM_WORDS,\n",
    "                max_len = MAX_LEN,\n",
    "                num_classes = NUM_CLASSES):\n",
    "        super().__init__()\n",
    "        \n",
    "        self.embedding = layers.Embedding(input_dim = vocad_dim, output_dim = 32, input_length = max_len)\n",
    "        \n",
    "        self.lstm1 = layers.Bidirectional(layers.LSTM(units = 32, return_sequences=True))\n",
    "        self.lstm2 = layers.Bidirectional(layers.LSTM(16))\n",
    "        \n",
    "        self.dense = layers.Dense(64, activation = 'relu')\n",
    "        \n",
    "        self.dropout = layers.Dropout(0.5)\n",
    "        \n",
    "        self.classifier = layers.Dense(num_classes, activation = 'softmax')\n",
    "        \n",
    "    def call(self, inputs, training = False):\n",
    "        x = self.embedding(inputs)\n",
    "        x = self.lstm1(x)\n",
    "        x = self.lstm2(x)\n",
    "        x = self.dense(x)\n",
    "        if training:\n",
    "            x = self.dropout(x, training = training)\n",
    "        return self.classifier(x)"
   ]
  },
  {
   "cell_type": "code",
   "execution_count": 22,
   "id": "90b950c3",
   "metadata": {},
   "outputs": [],
   "source": [
    "model = NLPModel()"
   ]
  },
  {
   "cell_type": "code",
   "execution_count": 23,
   "id": "ab2e042e",
   "metadata": {},
   "outputs": [],
   "source": [
    "## Especificamos la configuración de entrenamiento (optimizador, pérdida, métricas):\n",
    "# uso de ADAM Algorithm\n",
    "\n",
    "model.compile(\n",
    "    optimizer=tf.keras.optimizers.Adam(learning_rate=1e-3),\n",
    "    loss=tf.keras.losses.SparseCategoricalCrossentropy(),\n",
    "    metrics=['accuracy']\n",
    ")"
   ]
  },
  {
   "cell_type": "markdown",
   "id": "7cc43112",
   "metadata": {},
   "source": [
    "## Train Model"
   ]
  },
  {
   "cell_type": "code",
   "execution_count": 24,
   "id": "fa26d399",
   "metadata": {},
   "outputs": [
    {
     "name": "stdout",
     "output_type": "stream",
     "text": [
      "Epoch 1/5\n"
     ]
    },
    {
     "name": "stderr",
     "output_type": "stream",
     "text": [
      "2022-10-01 22:26:57.310947: W tensorflow/core/platform/profile_utils/cpu_utils.cc:128] Failed to get CPU frequency: 0 Hz\n"
     ]
    },
    {
     "name": "stdout",
     "output_type": "stream",
     "text": [
      "16160/16160 [==============================] - 4820s 298ms/step - loss: 0.4472 - accuracy: 0.8864 - val_loss: 0.1603 - val_accuracy: 0.9572\n",
      "Epoch 2/5\n",
      "16160/16160 [==============================] - 10169s 629ms/step - loss: 0.1468 - accuracy: 0.9615 - val_loss: 0.1306 - val_accuracy: 0.9655\n",
      "Epoch 3/5\n",
      "16160/16160 [==============================] - 4874s 302ms/step - loss: 0.1130 - accuracy: 0.9696 - val_loss: 0.1226 - val_accuracy: 0.9674\n",
      "Epoch 4/5\n",
      "16160/16160 [==============================] - 4862s 301ms/step - loss: 0.0979 - accuracy: 0.9735 - val_loss: 0.1205 - val_accuracy: 0.9692\n",
      "Epoch 5/5\n",
      "16160/16160 [==============================] - 4918s 304ms/step - loss: 0.0890 - accuracy: 0.9756 - val_loss: 0.1193 - val_accuracy: 0.9697\n",
      "CPU times: user 13h 57min 19s, sys: 8h 6min 48s, total: 22h 4min 8s\n",
      "Wall time: 8h 14min 4s\n"
     ]
    }
   ],
   "source": [
    "%%time\n",
    "history = model.fit(\n",
    "                    X_train, y_train,\n",
    "                    validation_data=(X_test, y_test),\n",
    "                    batch_size=512, \n",
    "                    epochs=5\n",
    ")"
   ]
  },
  {
   "cell_type": "code",
   "execution_count": 25,
   "id": "27b72b17",
   "metadata": {},
   "outputs": [
    {
     "data": {
      "text/plain": [
       "{'loss': [0.44724756479263306,\n",
       "  0.1468258649110794,\n",
       "  0.11304166913032532,\n",
       "  0.0978599488735199,\n",
       "  0.08898536115884781],\n",
       " 'accuracy': [0.886440098285675,\n",
       "  0.96149080991745,\n",
       "  0.9696206450462341,\n",
       "  0.973475992679596,\n",
       "  0.9756453633308411],\n",
       " 'val_loss': [0.16031499207019806,\n",
       "  0.1306367963552475,\n",
       "  0.12264436483383179,\n",
       "  0.1205485463142395,\n",
       "  0.11928495764732361],\n",
       " 'val_accuracy': [0.9571723937988281,\n",
       "  0.9654504656791687,\n",
       "  0.9674201011657715,\n",
       "  0.9691606163978577,\n",
       "  0.9696919918060303]}"
      ]
     },
     "execution_count": 25,
     "metadata": {},
     "output_type": "execute_result"
    }
   ],
   "source": [
    "## datos del entrenamiento\n",
    "history.history"
   ]
  },
  {
   "cell_type": "markdown",
   "id": "2053f5b5",
   "metadata": {},
   "source": [
    "## Evaluate Model"
   ]
  },
  {
   "cell_type": "code",
   "execution_count": 26,
   "id": "c5e43ccc",
   "metadata": {},
   "outputs": [
    {
     "name": "stdout",
     "output_type": "stream",
     "text": [
      "4040/4040 [==============================] - 261s 65ms/step\n",
      "CPU times: user 8min 51s, sys: 3min 20s, total: 12min 12s\n",
      "Wall time: 4min 25s\n"
     ]
    }
   ],
   "source": [
    "%%time\n",
    "y_pred = model.predict(X_test, batch_size=512, verbose=1)\n",
    "y_pred = y_pred.argmax(axis=1)"
   ]
  },
  {
   "cell_type": "code",
   "execution_count": 27,
   "id": "42122177",
   "metadata": {},
   "outputs": [
    {
     "name": "stdout",
     "output_type": "stream",
     "text": [
      "CPU times: user 2.33 s, sys: 74.9 ms, total: 2.4 s\n",
      "Wall time: 2.4 s\n"
     ]
    }
   ],
   "source": [
    "%%time\n",
    "acc = accuracy_score(y_test, y_pred)\n",
    "conf_mat = confusion_matrix(y_test, y_pred)\n",
    "conf_mat_recall = confusion_matrix(y_test, y_pred, normalize='true')\n",
    "conf_mat_precision = confusion_matrix(y_test, y_pred, normalize='pred')"
   ]
  },
  {
   "cell_type": "markdown",
   "id": "f6273fb5",
   "metadata": {},
   "source": [
    "### Accuracy"
   ]
  },
  {
   "cell_type": "code",
   "execution_count": 28,
   "id": "bba27cf9",
   "metadata": {},
   "outputs": [
    {
     "name": "stdout",
     "output_type": "stream",
     "text": [
      "Accuracy = 96.97%\n"
     ]
    }
   ],
   "source": [
    "print(f\"Accuracy = {acc:.2%}\")"
   ]
  },
  {
   "cell_type": "code",
   "execution_count": 99,
   "id": "b41a2536",
   "metadata": {},
   "outputs": [],
   "source": [
    "def app(phrase, _DEBUG = _DEBUG):\n",
    "    phrase_seq = tok.texts_to_sequences(phrase)\n",
    "    phrase_seq = pad_sequences(\n",
    "                    phrase_seq,\n",
    "                    padding = 'post',\n",
    "                    maxlen = MAX_LEN,\n",
    "                    truncating = 'post'\n",
    "                )\n",
    "    if _DEBUG :\n",
    "        print(phrase_seq)\n",
    "    \n",
    "    output = model.predict(phrase_seq, batch_size=512, verbose=1)\n",
    "    list_results = {}\n",
    "    for i in range(len(output[0])):\n",
    "        if output[0][i]>=0.1:\n",
    "            list_results[num_to_cls[i]] = output[0][i]\n",
    "\n",
    "    return list_results, output"
   ]
  },
  {
   "cell_type": "markdown",
   "id": "eb0565bf",
   "metadata": {},
   "source": [
    "# Anexo: confusion matrix"
   ]
  },
  {
   "cell_type": "code",
   "execution_count": 29,
   "id": "15103d4f",
   "metadata": {
    "scrolled": true
   },
   "outputs": [
    {
     "data": {
      "image/png": "[encoded data removed]",
      "text/plain": [
       "<Figure size 1200x1200 with 2 Axes>"
      ]
     },
     "metadata": {},
     "output_type": "display_data"
    }
   ],
   "source": [
    "plt.figure(figsize=(12, 12))\n",
    "ax = sns.heatmap(conf_mat_precision, vmin=0, vmax=1)\n",
    "cbar = ax.collections[0].colorbar\n",
    "cbar.set_ticks([0, .25, 0.5, .75, 1])\n",
    "cbar.set_ticklabels(['0%', '25%', '50%', '75%', '100%'])\n",
    "plt.show()"
   ]
  },
  {
   "cell_type": "markdown",
   "id": "842d818e",
   "metadata": {},
   "source": [
    "# Prueba de APP\n"
   ]
  },
  {
   "cell_type": "code",
   "execution_count": 106,
   "id": "6386c76b",
   "metadata": {},
   "outputs": [
    {
     "name": "stdout",
     "output_type": "stream",
     "text": [
      "[[11396     0     0 ...     0     0     0]\n",
      " [    3     0     0 ...     0     0     0]\n",
      " [ 5704     0     0 ...     0     0     0]\n",
      " ...\n",
      " [    3     0     0 ...     0     0     0]\n",
      " [    9     0     0 ...     0     0     0]\n",
      " [    3     0     0 ...     0     0     0]]\n",
      "1/1 [==============================] - 0s 23ms/step\n"
     ]
    }
   ],
   "source": [
    "phrase = \"habia una vez una persona sentada\"\n",
    "result, output = app(phrase)\n"
   ]
  },
  {
   "cell_type": "code",
   "execution_count": 107,
   "id": "d446c4df",
   "metadata": {},
   "outputs": [
    {
     "name": "stdout",
     "output_type": "stream",
     "text": [
      "[('eng', 0.34160417), ('deu', 0.10362743), ('fin', 0.10270908)]\n"
     ]
    }
   ],
   "source": [
    "import operator\n",
    "print(sorted(result.items(), key=operator.itemgetter(1), reverse=True))"
   ]
  },
  {
   "cell_type": "code",
   "execution_count": 105,
   "id": "04069bdc",
   "metadata": {},
   "outputs": [
    {
     "data": {
      "text/plain": [
       "'Kabyle'"
      ]
     },
     "metadata": {},
     "output_type": "display_data"
    }
   ],
   "source": [
    "with open(\"./data/language.json\") as f:\n",
    "    lan_to_language = json.load(f)\n",
    "display(lan_to_language['kab'])"
   ]
  },
  {
   "cell_type": "code",
   "execution_count": null,
   "id": "bc48a473",
   "metadata": {},
   "outputs": [],
   "source": []
  }
 ],
 "metadata": {
  "kernelspec": {
   "display_name": "Python 3.8.12 ('.env')",
   "language": "python",
   "name": "python3"
  },
  "language_info": {
   "codemirror_mode": {
    "name": "ipython",
    "version": 3
   },
   "file_extension": ".py",
   "mimetype": "text/x-python",
   "name": "python",
   "nbconvert_exporter": "python",
   "pygments_lexer": "ipython3",
   "version": "3.8.12"
  },
  "vscode": {
   "interpreter": {
    "hash": "406ac3d6657a49fe5e106d91c2d84d36a89fb442eaf307d23e18627975a48d80"
   }
  }
 },
 "nbformat": 4,
 "nbformat_minor": 5
}
