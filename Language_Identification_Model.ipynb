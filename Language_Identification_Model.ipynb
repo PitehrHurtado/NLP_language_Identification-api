{
 "cells": [
  {
   "cell_type": "markdown",
   "id": "87766d7c",
   "metadata": {},
   "source": [
    "# Language Identification Model\n"
   ]
  },
  {
   "cell_type": "code",
   "execution_count": 21,
   "id": "00f612dd",
   "metadata": {},
   "outputs": [],
   "source": [
    "### TO DEBUGGIN'\n",
    "_DEBUG = True"
   ]
  },
  {
   "cell_type": "markdown",
   "id": "80b1b819",
   "metadata": {},
   "source": [
    "## Load Package"
   ]
  },
  {
   "cell_type": "code",
   "execution_count": 2,
   "id": "57c36656",
   "metadata": {},
   "outputs": [],
   "source": [
    "# to load and manipulate data\n",
    "import pandas as pd\n",
    "import numpy as np\n",
    "import os\n",
    "import json\n",
    "from sklearn.model_selection import train_test_split\n",
    "\n",
    "# to make neural netowrk model, sequencing and tokenizing\n",
    "import tensorflow as tf\n",
    "\n",
    "from tensorflow.keras.preprocessing.text import Tokenizer\n",
    "from tensorflow.keras.preprocessing.sequence import pad_sequences\n",
    "from tensorflow.keras import layers\n",
    "\n",
    "# to evaluate and display results\n",
    "from sklearn.metrics import  confusion_matrix, accuracy_score\n",
    "import seaborn as sns\n",
    "import matplotlib.pyplot as plt"
   ]
  },
  {
   "cell_type": "markdown",
   "id": "fd801346",
   "metadata": {},
   "source": [
    "## Load Data"
   ]
  },
  {
   "cell_type": "code",
   "execution_count": 3,
   "id": "28fb2f86",
   "metadata": {},
   "outputs": [
    {
     "name": "stdout",
     "output_type": "stream",
     "text": [
      "./data/language.json\n",
      "./data/sentences.csv\n"
     ]
    }
   ],
   "source": [
    "## print paths\n",
    "for root, dirs, files in os.walk('./data'):\n",
    "    for filename in files:\n",
    "        print(os.path.join(root,filename))"
   ]
  },
  {
   "cell_type": "code",
   "execution_count": 4,
   "id": "4acc594c",
   "metadata": {},
   "outputs": [
    {
     "name": "stdout",
     "output_type": "stream",
     "text": [
      "CPU times: user 5.34 s, sys: 297 ms, total: 5.64 s\n",
      "Wall time: 5.64 s\n"
     ]
    }
   ],
   "source": [
    "%%time\n",
    "## vamos a medir el TIME de esta shit\n",
    "\n",
    "df = pd.read_csv(\"./data/sentences.csv\")"
   ]
  },
  {
   "cell_type": "markdown",
   "id": "b67cb6e3",
   "metadata": {},
   "source": [
    "## Data Cleansing"
   ]
  },
  {
   "cell_type": "code",
   "execution_count": 5,
   "id": "d4eeb9d7",
   "metadata": {},
   "outputs": [],
   "source": [
    "## eliminar columna maldita que esta de mas ID\n",
    "df.drop(columns=['id'],inplace=True)"
   ]
  },
  {
   "cell_type": "code",
   "execution_count": 6,
   "id": "40dcd088",
   "metadata": {},
   "outputs": [
    {
     "data": {
      "text/html": [
       "<div>\n",
       "<style scoped>\n",
       "    .dataframe tbody tr th:only-of-type {\n",
       "        vertical-align: middle;\n",
       "    }\n",
       "\n",
       "    .dataframe tbody tr th {\n",
       "        vertical-align: top;\n",
       "    }\n",
       "\n",
       "    .dataframe thead th {\n",
       "        text-align: right;\n",
       "    }\n",
       "</style>\n",
       "<table border=\"1\" class=\"dataframe\">\n",
       "  <thead>\n",
       "    <tr style=\"text-align: right;\">\n",
       "      <th></th>\n",
       "      <th>lan_code</th>\n",
       "      <th>sentence</th>\n",
       "    </tr>\n",
       "  </thead>\n",
       "  <tbody>\n",
       "    <tr>\n",
       "      <th>0</th>\n",
       "      <td>cmn</td>\n",
       "      <td>我們試試看！</td>\n",
       "    </tr>\n",
       "    <tr>\n",
       "      <th>1</th>\n",
       "      <td>cmn</td>\n",
       "      <td>我该去睡觉了。</td>\n",
       "    </tr>\n",
       "    <tr>\n",
       "      <th>2</th>\n",
       "      <td>cmn</td>\n",
       "      <td>你在干什麼啊？</td>\n",
       "    </tr>\n",
       "    <tr>\n",
       "      <th>3</th>\n",
       "      <td>cmn</td>\n",
       "      <td>這是什麼啊？</td>\n",
       "    </tr>\n",
       "    <tr>\n",
       "      <th>4</th>\n",
       "      <td>cmn</td>\n",
       "      <td>今天是６月１８号，也是Muiriel的生日！</td>\n",
       "    </tr>\n",
       "  </tbody>\n",
       "</table>\n",
       "</div>"
      ],
      "text/plain": [
       "  lan_code                sentence\n",
       "0      cmn                  我們試試看！\n",
       "1      cmn                 我该去睡觉了。\n",
       "2      cmn                 你在干什麼啊？\n",
       "3      cmn                  這是什麼啊？\n",
       "4      cmn  今天是６月１８号，也是Muiriel的生日！"
      ]
     },
     "execution_count": 6,
     "metadata": {},
     "output_type": "execute_result"
    }
   ],
   "source": [
    "df.head()"
   ]
  },
  {
   "cell_type": "code",
   "execution_count": 7,
   "id": "24fbb44f",
   "metadata": {},
   "outputs": [],
   "source": [
    "## [x] no hay sentencias sin code - data maravillosa!!! :D!\n",
    "if _DEBUG:\n",
    "    display(df.describe())"
   ]
  },
  {
   "cell_type": "code",
   "execution_count": 8,
   "id": "d31ecff8",
   "metadata": {},
   "outputs": [],
   "source": [
    "if _DEBUG:\n",
    "    ## exploracion de frequence\n",
    "    df_exploration = df.groupby(\"lan_code\").count().sort_values(\"sentence\",ascending = False)\n",
    "    #df_exploration.plot()\n",
    "    \n",
    "    #!# posiblemente cuando se entrene el modelo los de baja frecuencia no va a predecir correctamente\n",
    "    #!# como posible opcion 1 analizar con todo y luego ver el impacto de remover esos code lan con freq 1\n",
    "    \n",
    "    display(df_exploration)\n",
    "    count_freq_1 = df_exploration[df_exploration.sentence<=10].sum()\n",
    "    print(\"Code LANGUAGE with less frequency than 10: {}\".format(count_freq_1))\n",
    "    \n",
    "    del df_exploration"
   ]
  },
  {
   "cell_type": "markdown",
   "id": "9c0dade4",
   "metadata": {},
   "source": [
    "## Preprocessing Data - FULL dataset sentences"
   ]
  },
  {
   "cell_type": "code",
   "execution_count": 9,
   "id": "337dfdaa",
   "metadata": {},
   "outputs": [
    {
     "name": "stdout",
     "output_type": "stream",
     "text": [
      "Count of Clases: 404\n"
     ]
    }
   ],
   "source": [
    "# ENCODING CLASSES (cod language)\n",
    "classes_list = list(df.lan_code.unique())\n",
    "print(\"Count of Clases: {}\".format(len(classes_list)))"
   ]
  },
  {
   "cell_type": "code",
   "execution_count": 10,
   "id": "499c0b49",
   "metadata": {},
   "outputs": [],
   "source": [
    "## crearemos dos dic para usos posteriores de transformacion\n",
    "\n",
    "cls_to_num = {\n",
    "    cls : i\n",
    "    for i,cls in enumerate(classes_list)\n",
    "}\n",
    "\n",
    "num_to_cls = {\n",
    "    i : cls\n",
    "    for cls,i in cls_to_num.items()\n",
    "}"
   ]
  },
  {
   "cell_type": "code",
   "execution_count": 11,
   "id": "4ba360de",
   "metadata": {},
   "outputs": [
    {
     "data": {
      "text/html": [
       "<div>\n",
       "<style scoped>\n",
       "    .dataframe tbody tr th:only-of-type {\n",
       "        vertical-align: middle;\n",
       "    }\n",
       "\n",
       "    .dataframe tbody tr th {\n",
       "        vertical-align: top;\n",
       "    }\n",
       "\n",
       "    .dataframe thead th {\n",
       "        text-align: right;\n",
       "    }\n",
       "</style>\n",
       "<table border=\"1\" class=\"dataframe\">\n",
       "  <thead>\n",
       "    <tr style=\"text-align: right;\">\n",
       "      <th></th>\n",
       "      <th>lan_code</th>\n",
       "      <th>sentence</th>\n",
       "    </tr>\n",
       "  </thead>\n",
       "  <tbody>\n",
       "    <tr>\n",
       "      <th>0</th>\n",
       "      <td>cmn</td>\n",
       "      <td>我們試試看！</td>\n",
       "    </tr>\n",
       "    <tr>\n",
       "      <th>1</th>\n",
       "      <td>cmn</td>\n",
       "      <td>我该去睡觉了。</td>\n",
       "    </tr>\n",
       "    <tr>\n",
       "      <th>2</th>\n",
       "      <td>cmn</td>\n",
       "      <td>你在干什麼啊？</td>\n",
       "    </tr>\n",
       "    <tr>\n",
       "      <th>3</th>\n",
       "      <td>cmn</td>\n",
       "      <td>這是什麼啊？</td>\n",
       "    </tr>\n",
       "    <tr>\n",
       "      <th>4</th>\n",
       "      <td>cmn</td>\n",
       "      <td>今天是６月１８号，也是Muiriel的生日！</td>\n",
       "    </tr>\n",
       "  </tbody>\n",
       "</table>\n",
       "</div>"
      ],
      "text/plain": [
       "  lan_code                sentence\n",
       "0      cmn                  我們試試看！\n",
       "1      cmn                 我该去睡觉了。\n",
       "2      cmn                 你在干什麼啊？\n",
       "3      cmn                  這是什麼啊？\n",
       "4      cmn  今天是６月１８号，也是Muiriel的生日！"
      ]
     },
     "metadata": {},
     "output_type": "display_data"
    },
    {
     "data": {
      "text/html": [
       "<div>\n",
       "<style scoped>\n",
       "    .dataframe tbody tr th:only-of-type {\n",
       "        vertical-align: middle;\n",
       "    }\n",
       "\n",
       "    .dataframe tbody tr th {\n",
       "        vertical-align: top;\n",
       "    }\n",
       "\n",
       "    .dataframe thead th {\n",
       "        text-align: right;\n",
       "    }\n",
       "</style>\n",
       "<table border=\"1\" class=\"dataframe\">\n",
       "  <thead>\n",
       "    <tr style=\"text-align: right;\">\n",
       "      <th></th>\n",
       "      <th>lan_code</th>\n",
       "      <th>sentence</th>\n",
       "    </tr>\n",
       "  </thead>\n",
       "  <tbody>\n",
       "    <tr>\n",
       "      <th>0</th>\n",
       "      <td>0</td>\n",
       "      <td>我們試試看！</td>\n",
       "    </tr>\n",
       "    <tr>\n",
       "      <th>1</th>\n",
       "      <td>0</td>\n",
       "      <td>我该去睡觉了。</td>\n",
       "    </tr>\n",
       "    <tr>\n",
       "      <th>2</th>\n",
       "      <td>0</td>\n",
       "      <td>你在干什麼啊？</td>\n",
       "    </tr>\n",
       "    <tr>\n",
       "      <th>3</th>\n",
       "      <td>0</td>\n",
       "      <td>這是什麼啊？</td>\n",
       "    </tr>\n",
       "    <tr>\n",
       "      <th>4</th>\n",
       "      <td>0</td>\n",
       "      <td>今天是６月１８号，也是Muiriel的生日！</td>\n",
       "    </tr>\n",
       "  </tbody>\n",
       "</table>\n",
       "</div>"
      ],
      "text/plain": [
       "   lan_code                sentence\n",
       "0         0                  我們試試看！\n",
       "1         0                 我该去睡觉了。\n",
       "2         0                 你在干什麼啊？\n",
       "3         0                  這是什麼啊？\n",
       "4         0  今天是６月１８号，也是Muiriel的生日！"
      ]
     },
     "metadata": {},
     "output_type": "display_data"
    }
   ],
   "source": [
    "## cambiar el string-code por int-code para ingresarlos al modelo\n",
    "\n",
    "display(df.head())\n",
    "df.lan_code = df.lan_code.map(cls_to_num).astype(int)\n",
    "display(df.head())"
   ]
  },
  {
   "cell_type": "markdown",
   "id": "02179fb9",
   "metadata": {},
   "source": [
    "## Subset Train & Test"
   ]
  },
  {
   "cell_type": "code",
   "execution_count": 12,
   "id": "8cb045cf",
   "metadata": {},
   "outputs": [],
   "source": [
    "# Lista de Sentencias\n",
    "X = df.pop('sentence').values\n",
    "\n",
    "# Lista de CODE LAN \n",
    "y = df.copy().values.T[0]\n",
    "\n",
    "if _DEBUG:\n",
    "    display(X)\n",
    "    display(y)"
   ]
  },
  {
   "cell_type": "code",
   "execution_count": 13,
   "id": "8a0c148c",
   "metadata": {},
   "outputs": [],
   "source": [
    "## liberamos memoria virtual (RAM)\n",
    "del df"
   ]
  },
  {
   "cell_type": "code",
   "execution_count": 14,
   "id": "0c06aef2",
   "metadata": {},
   "outputs": [],
   "source": [
    "X_train, X_test, y_train, y_test = train_test_split(\n",
    "    X,y,\n",
    "    train_size=0.8,\n",
    "    random_state=50,\n",
    "    shuffle = True\n",
    ")\n",
    "\n",
    "## liberamos memoria virtual (RAM)\n",
    "del X, y"
   ]
  },
  {
   "cell_type": "markdown",
   "id": "36cb59f9",
   "metadata": {},
   "source": [
    "# Tokenization\n",
    "\n",
    "Usaremos este metodo para procesar los datos input para el modelo:\n",
    "\n",
    "mas info: https://towardsdatascience.com/tokenization-for-natural-language-processing-a179a891bad4\n"
   ]
  },
  {
   "cell_type": "markdown",
   "id": "51c56603",
   "metadata": {},
   "source": [
    "### Sentencias -> Secuencias de palabras\n"
   ]
  },
  {
   "cell_type": "code",
   "execution_count": 16,
   "id": "a2734a5d",
   "metadata": {},
   "outputs": [],
   "source": [
    "## parametros\n",
    "\n",
    "NUM_WORDS = 1000000\n",
    "MAX_LEN = 140\n",
    "NUM_CLASSES = 404 # esto lo sacamos de arriba"
   ]
  },
  {
   "cell_type": "code",
   "execution_count": 17,
   "id": "1a03dfcd",
   "metadata": {},
   "outputs": [],
   "source": [
    "def tokenize_and_sequence(\n",
    "                            train_sentences,\n",
    "                            test_sentences\n",
    "                            ):\n",
    "    tok = Tokenizer(num_words = NUM_WORDS, oov_token='<OOV>')\n",
    "    tok.fit_on_texts(train_sentences)\n",
    "    \n",
    "    # training set\n",
    "    train_seq = tok.texts_to_sequences(train_sentences)\n",
    "    train_seq = pad_sequences(\n",
    "                    train_seq,\n",
    "                    padding = 'post',\n",
    "                    maxlen = MAX_LEN,\n",
    "                    truncating = 'post'\n",
    "                )\n",
    "    \n",
    "    # testing set\n",
    "    test_seq = tok.texts_to_sequences(test_sentences)\n",
    "    test_seq = pad_sequences(\n",
    "                    test_seq,\n",
    "                    padding = 'post',\n",
    "                    maxlen = MAX_LEN,\n",
    "                    truncating = 'post'\n",
    "                )\n",
    "    if _DEBUG:\n",
    "        print(tok.get_config())\n",
    "    \n",
    "    return train_seq, test_seq, tok"
   ]
  },
  {
   "cell_type": "code",
   "execution_count": 18,
   "id": "15abbe8e",
   "metadata": {},
   "outputs": [
    {
     "name": "stdout",
     "output_type": "stream",
     "text": [
      "CPU times: user 2min 17s, sys: 1.48 s, total: 2min 19s\n",
      "Wall time: 2min 19s\n"
     ]
    }
   ],
   "source": [
    "%%time\n",
    "## call function \n",
    "X_train, X_test, tok = tokenize_and_sequence(X_train, X_test)\n",
    "\n",
    "# WARNING: problemas de tiempo de respuesta, se debe cambiar la config del notebook"
   ]
  },
  {
   "cell_type": "code",
   "execution_count": 23,
   "id": "e63946da",
   "metadata": {},
   "outputs": [
    {
     "name": "stdout",
     "output_type": "stream",
     "text": [
      "(8273449, 140)\n",
      "(2068363, 140)\n"
     ]
    }
   ],
   "source": [
    "if _DEBUG:\n",
    "    print(X_train.shape)\n",
    "    print(X_test.shape)"
   ]
  },
  {
   "cell_type": "markdown",
   "id": "e7407a26",
   "metadata": {},
   "source": [
    "# Model NLP"
   ]
  },
  {
   "cell_type": "markdown",
   "id": "847c0ca0",
   "metadata": {},
   "source": [
    "## Build Model"
   ]
  },
  {
   "cell_type": "code",
   "execution_count": null,
   "id": "119f8c46",
   "metadata": {},
   "outputs": [],
   "source": []
  },
  {
   "cell_type": "code",
   "execution_count": null,
   "id": "90b950c3",
   "metadata": {},
   "outputs": [],
   "source": []
  },
  {
   "cell_type": "markdown",
   "id": "7cc43112",
   "metadata": {},
   "source": [
    "## Train Model"
   ]
  },
  {
   "cell_type": "code",
   "execution_count": null,
   "id": "fa26d399",
   "metadata": {},
   "outputs": [],
   "source": []
  },
  {
   "cell_type": "code",
   "execution_count": null,
   "id": "27b72b17",
   "metadata": {},
   "outputs": [],
   "source": []
  },
  {
   "cell_type": "markdown",
   "id": "2053f5b5",
   "metadata": {},
   "source": [
    "## Evaluate Model"
   ]
  },
  {
   "cell_type": "code",
   "execution_count": null,
   "id": "c5e43ccc",
   "metadata": {},
   "outputs": [],
   "source": []
  },
  {
   "cell_type": "code",
   "execution_count": null,
   "id": "42122177",
   "metadata": {},
   "outputs": [],
   "source": []
  }
 ],
 "metadata": {
  "kernelspec": {
   "display_name": "Python 3 (ipykernel)",
   "language": "python",
   "name": "python3"
  },
  "language_info": {
   "codemirror_mode": {
    "name": "ipython",
    "version": 3
   },
   "file_extension": ".py",
   "mimetype": "text/x-python",
   "name": "python",
   "nbconvert_exporter": "python",
   "pygments_lexer": "ipython3",
   "version": "3.10.6"
  }
 },
 "nbformat": 4,
 "nbformat_minor": 5
}
